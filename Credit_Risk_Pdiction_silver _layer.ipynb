{
 "cells": [
  {
   "cell_type": "code",
   "execution_count": 1,
   "id": "b48611f3-b229-425b-96d6-2c27f70615e5",
   "metadata": {},
   "outputs": [],
   "source": [
    "import pandas as pd\n",
    "import numpy as np\n",
    "import matplotlib.pyplot as plt\n",
    "import seaborn as sns"
   ]
  },
  {
   "cell_type": "code",
   "execution_count": 2,
   "id": "09b1fafe-ac25-4f16-a92a-f81ecb78cefc",
   "metadata": {},
   "outputs": [
    {
     "data": {
      "text/html": [
       "<div>\n",
       "<style scoped>\n",
       "    .dataframe tbody tr th:only-of-type {\n",
       "        vertical-align: middle;\n",
       "    }\n",
       "\n",
       "    .dataframe tbody tr th {\n",
       "        vertical-align: top;\n",
       "    }\n",
       "\n",
       "    .dataframe thead th {\n",
       "        text-align: right;\n",
       "    }\n",
       "</style>\n",
       "<table border=\"1\" class=\"dataframe\">\n",
       "  <thead>\n",
       "    <tr style=\"text-align: right;\">\n",
       "      <th></th>\n",
       "      <th>customer_id</th>\n",
       "      <th>name</th>\n",
       "      <th>age</th>\n",
       "      <th>gender</th>\n",
       "      <th>owns_car</th>\n",
       "      <th>owns_house</th>\n",
       "      <th>no_of_children</th>\n",
       "      <th>net_yearly_income</th>\n",
       "      <th>no_of_days_employed</th>\n",
       "      <th>occupation_type</th>\n",
       "      <th>total_family_members</th>\n",
       "      <th>migrant_worker</th>\n",
       "      <th>yearly_debt_payments</th>\n",
       "      <th>credit_limit</th>\n",
       "      <th>credit_limit_used(%)</th>\n",
       "      <th>credit_score</th>\n",
       "      <th>prev_defaults</th>\n",
       "      <th>default_in_last_6months</th>\n",
       "      <th>credit_card_default</th>\n",
       "    </tr>\n",
       "  </thead>\n",
       "  <tbody>\n",
       "    <tr>\n",
       "      <th>0</th>\n",
       "      <td>CST_115179</td>\n",
       "      <td>ita Bose</td>\n",
       "      <td>46</td>\n",
       "      <td>F</td>\n",
       "      <td>N</td>\n",
       "      <td>Y</td>\n",
       "      <td>0.0</td>\n",
       "      <td>107934.04</td>\n",
       "      <td>612.0</td>\n",
       "      <td>Unknown</td>\n",
       "      <td>1.0</td>\n",
       "      <td>1.0</td>\n",
       "      <td>33070.28</td>\n",
       "      <td>18690.93</td>\n",
       "      <td>73</td>\n",
       "      <td>544.0</td>\n",
       "      <td>2</td>\n",
       "      <td>1</td>\n",
       "      <td>1.0</td>\n",
       "    </tr>\n",
       "    <tr>\n",
       "      <th>1</th>\n",
       "      <td>CST_121920</td>\n",
       "      <td>Alper Jonathan</td>\n",
       "      <td>29</td>\n",
       "      <td>M</td>\n",
       "      <td>N</td>\n",
       "      <td>Y</td>\n",
       "      <td>0.0</td>\n",
       "      <td>109862.62</td>\n",
       "      <td>2771.0</td>\n",
       "      <td>Laborers</td>\n",
       "      <td>2.0</td>\n",
       "      <td>0.0</td>\n",
       "      <td>15329.53</td>\n",
       "      <td>37745.19</td>\n",
       "      <td>52</td>\n",
       "      <td>857.0</td>\n",
       "      <td>0</td>\n",
       "      <td>0</td>\n",
       "      <td>0.0</td>\n",
       "    </tr>\n",
       "    <tr>\n",
       "      <th>2</th>\n",
       "      <td>CST_109330</td>\n",
       "      <td>Umesh Desai</td>\n",
       "      <td>37</td>\n",
       "      <td>M</td>\n",
       "      <td>N</td>\n",
       "      <td>Y</td>\n",
       "      <td>0.0</td>\n",
       "      <td>230153.17</td>\n",
       "      <td>204.0</td>\n",
       "      <td>Laborers</td>\n",
       "      <td>2.0</td>\n",
       "      <td>0.0</td>\n",
       "      <td>48416.60</td>\n",
       "      <td>41598.36</td>\n",
       "      <td>43</td>\n",
       "      <td>650.0</td>\n",
       "      <td>0</td>\n",
       "      <td>0</td>\n",
       "      <td>0.0</td>\n",
       "    </tr>\n",
       "    <tr>\n",
       "      <th>3</th>\n",
       "      <td>CST_128288</td>\n",
       "      <td>Rie</td>\n",
       "      <td>39</td>\n",
       "      <td>F</td>\n",
       "      <td>N</td>\n",
       "      <td>Y</td>\n",
       "      <td>0.0</td>\n",
       "      <td>122325.82</td>\n",
       "      <td>11941.0</td>\n",
       "      <td>Core staff</td>\n",
       "      <td>2.0</td>\n",
       "      <td>0.0</td>\n",
       "      <td>22574.36</td>\n",
       "      <td>32627.76</td>\n",
       "      <td>20</td>\n",
       "      <td>754.0</td>\n",
       "      <td>0</td>\n",
       "      <td>0</td>\n",
       "      <td>0.0</td>\n",
       "    </tr>\n",
       "    <tr>\n",
       "      <th>4</th>\n",
       "      <td>CST_151355</td>\n",
       "      <td>McCool</td>\n",
       "      <td>46</td>\n",
       "      <td>M</td>\n",
       "      <td>Y</td>\n",
       "      <td>Y</td>\n",
       "      <td>0.0</td>\n",
       "      <td>387286.00</td>\n",
       "      <td>1459.0</td>\n",
       "      <td>Core staff</td>\n",
       "      <td>1.0</td>\n",
       "      <td>0.0</td>\n",
       "      <td>38282.95</td>\n",
       "      <td>52950.64</td>\n",
       "      <td>75</td>\n",
       "      <td>927.0</td>\n",
       "      <td>0</td>\n",
       "      <td>0</td>\n",
       "      <td>0.0</td>\n",
       "    </tr>\n",
       "    <tr>\n",
       "      <th>...</th>\n",
       "      <td>...</td>\n",
       "      <td>...</td>\n",
       "      <td>...</td>\n",
       "      <td>...</td>\n",
       "      <td>...</td>\n",
       "      <td>...</td>\n",
       "      <td>...</td>\n",
       "      <td>...</td>\n",
       "      <td>...</td>\n",
       "      <td>...</td>\n",
       "      <td>...</td>\n",
       "      <td>...</td>\n",
       "      <td>...</td>\n",
       "      <td>...</td>\n",
       "      <td>...</td>\n",
       "      <td>...</td>\n",
       "      <td>...</td>\n",
       "      <td>...</td>\n",
       "      <td>...</td>\n",
       "    </tr>\n",
       "    <tr>\n",
       "      <th>56906</th>\n",
       "      <td>CST_142412</td>\n",
       "      <td>Solarina</td>\n",
       "      <td>53</td>\n",
       "      <td>F</td>\n",
       "      <td>N</td>\n",
       "      <td>N</td>\n",
       "      <td>0.0</td>\n",
       "      <td>266824.38</td>\n",
       "      <td>3051.0</td>\n",
       "      <td>Sales staff</td>\n",
       "      <td>1.0</td>\n",
       "      <td>0.0</td>\n",
       "      <td>17791.56</td>\n",
       "      <td>64483.93</td>\n",
       "      <td>74</td>\n",
       "      <td>823.0</td>\n",
       "      <td>0</td>\n",
       "      <td>0</td>\n",
       "      <td>NaN</td>\n",
       "    </tr>\n",
       "    <tr>\n",
       "      <th>56907</th>\n",
       "      <td>CST_107967</td>\n",
       "      <td>Jonathan Cable</td>\n",
       "      <td>33</td>\n",
       "      <td>F</td>\n",
       "      <td>NaN</td>\n",
       "      <td>N</td>\n",
       "      <td>0.0</td>\n",
       "      <td>124310.85</td>\n",
       "      <td>365248.0</td>\n",
       "      <td>Unknown</td>\n",
       "      <td>1.0</td>\n",
       "      <td>0.0</td>\n",
       "      <td>26576.79</td>\n",
       "      <td>29851.73</td>\n",
       "      <td>60</td>\n",
       "      <td>712.0</td>\n",
       "      <td>0</td>\n",
       "      <td>0</td>\n",
       "      <td>NaN</td>\n",
       "    </tr>\n",
       "    <tr>\n",
       "      <th>56908</th>\n",
       "      <td>CST_134002</td>\n",
       "      <td>Robin</td>\n",
       "      <td>27</td>\n",
       "      <td>M</td>\n",
       "      <td>Y</td>\n",
       "      <td>Y</td>\n",
       "      <td>1.0</td>\n",
       "      <td>364652.81</td>\n",
       "      <td>3431.0</td>\n",
       "      <td>Laborers</td>\n",
       "      <td>3.0</td>\n",
       "      <td>0.0</td>\n",
       "      <td>28658.55</td>\n",
       "      <td>69336.96</td>\n",
       "      <td>67</td>\n",
       "      <td>674.0</td>\n",
       "      <td>0</td>\n",
       "      <td>0</td>\n",
       "      <td>NaN</td>\n",
       "    </tr>\n",
       "    <tr>\n",
       "      <th>56909</th>\n",
       "      <td>CST_146856</td>\n",
       "      <td>Lauren</td>\n",
       "      <td>36</td>\n",
       "      <td>F</td>\n",
       "      <td>N</td>\n",
       "      <td>Y</td>\n",
       "      <td>0.0</td>\n",
       "      <td>128769.02</td>\n",
       "      <td>16320.0</td>\n",
       "      <td>Medicine staff</td>\n",
       "      <td>1.0</td>\n",
       "      <td>0.0</td>\n",
       "      <td>11527.38</td>\n",
       "      <td>26908.03</td>\n",
       "      <td>17</td>\n",
       "      <td>684.0</td>\n",
       "      <td>0</td>\n",
       "      <td>0</td>\n",
       "      <td>NaN</td>\n",
       "    </tr>\n",
       "    <tr>\n",
       "      <th>56910</th>\n",
       "      <td>CST_112001</td>\n",
       "      <td>Lynnley Browning</td>\n",
       "      <td>45</td>\n",
       "      <td>F</td>\n",
       "      <td>N</td>\n",
       "      <td>Y</td>\n",
       "      <td>0.0</td>\n",
       "      <td>158543.43</td>\n",
       "      <td>9443.0</td>\n",
       "      <td>Medicine staff</td>\n",
       "      <td>2.0</td>\n",
       "      <td>0.0</td>\n",
       "      <td>30290.64</td>\n",
       "      <td>26071.88</td>\n",
       "      <td>64</td>\n",
       "      <td>930.0</td>\n",
       "      <td>0</td>\n",
       "      <td>0</td>\n",
       "      <td>NaN</td>\n",
       "    </tr>\n",
       "  </tbody>\n",
       "</table>\n",
       "<p>56911 rows × 19 columns</p>\n",
       "</div>"
      ],
      "text/plain": [
       "      customer_id              name  age gender owns_car owns_house  \\\n",
       "0      CST_115179          ita Bose   46      F        N          Y   \n",
       "1      CST_121920    Alper Jonathan   29      M        N          Y   \n",
       "2      CST_109330       Umesh Desai   37      M        N          Y   \n",
       "3      CST_128288               Rie   39      F        N          Y   \n",
       "4      CST_151355            McCool   46      M        Y          Y   \n",
       "...           ...               ...  ...    ...      ...        ...   \n",
       "56906  CST_142412          Solarina   53      F        N          N   \n",
       "56907  CST_107967    Jonathan Cable   33      F      NaN          N   \n",
       "56908  CST_134002             Robin   27      M        Y          Y   \n",
       "56909  CST_146856            Lauren   36      F        N          Y   \n",
       "56910  CST_112001  Lynnley Browning   45      F        N          Y   \n",
       "\n",
       "       no_of_children  net_yearly_income  no_of_days_employed occupation_type  \\\n",
       "0                 0.0          107934.04                612.0         Unknown   \n",
       "1                 0.0          109862.62               2771.0        Laborers   \n",
       "2                 0.0          230153.17                204.0        Laborers   \n",
       "3                 0.0          122325.82              11941.0      Core staff   \n",
       "4                 0.0          387286.00               1459.0      Core staff   \n",
       "...               ...                ...                  ...             ...   \n",
       "56906             0.0          266824.38               3051.0     Sales staff   \n",
       "56907             0.0          124310.85             365248.0         Unknown   \n",
       "56908             1.0          364652.81               3431.0        Laborers   \n",
       "56909             0.0          128769.02              16320.0  Medicine staff   \n",
       "56910             0.0          158543.43               9443.0  Medicine staff   \n",
       "\n",
       "       total_family_members  migrant_worker  yearly_debt_payments  \\\n",
       "0                       1.0             1.0              33070.28   \n",
       "1                       2.0             0.0              15329.53   \n",
       "2                       2.0             0.0              48416.60   \n",
       "3                       2.0             0.0              22574.36   \n",
       "4                       1.0             0.0              38282.95   \n",
       "...                     ...             ...                   ...   \n",
       "56906                   1.0             0.0              17791.56   \n",
       "56907                   1.0             0.0              26576.79   \n",
       "56908                   3.0             0.0              28658.55   \n",
       "56909                   1.0             0.0              11527.38   \n",
       "56910                   2.0             0.0              30290.64   \n",
       "\n",
       "       credit_limit  credit_limit_used(%)  credit_score  prev_defaults  \\\n",
       "0          18690.93                    73         544.0              2   \n",
       "1          37745.19                    52         857.0              0   \n",
       "2          41598.36                    43         650.0              0   \n",
       "3          32627.76                    20         754.0              0   \n",
       "4          52950.64                    75         927.0              0   \n",
       "...             ...                   ...           ...            ...   \n",
       "56906      64483.93                    74         823.0              0   \n",
       "56907      29851.73                    60         712.0              0   \n",
       "56908      69336.96                    67         674.0              0   \n",
       "56909      26908.03                    17         684.0              0   \n",
       "56910      26071.88                    64         930.0              0   \n",
       "\n",
       "       default_in_last_6months  credit_card_default  \n",
       "0                            1                  1.0  \n",
       "1                            0                  0.0  \n",
       "2                            0                  0.0  \n",
       "3                            0                  0.0  \n",
       "4                            0                  0.0  \n",
       "...                        ...                  ...  \n",
       "56906                        0                  NaN  \n",
       "56907                        0                  NaN  \n",
       "56908                        0                  NaN  \n",
       "56909                        0                  NaN  \n",
       "56910                        0                  NaN  \n",
       "\n",
       "[56911 rows x 19 columns]"
      ]
     },
     "execution_count": 2,
     "metadata": {},
     "output_type": "execute_result"
    }
   ],
   "source": [
    "# Read the CSV files\n",
    "train_df = pd.read_csv(\"C:/Users/Administrator/Downloads/train.csv\")\n",
    "test_df = pd.read_csv(\"C:/Users/Administrator/Downloads/test.csv\")\n",
    "\n",
    "# Combine them vertically\n",
    "data = pd.concat([train_df, test_df], ignore_index=True)\n",
    "\n",
    "# Save to a new file if needed\n",
    "data.to_csv(\"merged_data.csv\", index=False)\n",
    "\n",
    "data"
   ]
  },
  {
   "cell_type": "code",
   "execution_count": 3,
   "id": "96976c26-b401-4bce-8570-8f36ccc5fd42",
   "metadata": {},
   "outputs": [
    {
     "name": "stdout",
     "output_type": "stream",
     "text": [
      "Empty DataFrame\n",
      "Columns: [customer_id, name, age, gender, owns_car, owns_house, no_of_children, net_yearly_income, no_of_days_employed, occupation_type, total_family_members, migrant_worker, yearly_debt_payments, credit_limit, credit_limit_used(%), credit_score, prev_defaults, default_in_last_6months, credit_card_default]\n",
      "Index: []\n"
     ]
    }
   ],
   "source": [
    "# Check if any row in the merged DataFrame equals the column names\n",
    "mask = (data == list(data.columns)).all(axis=1)\n",
    "\n",
    "# Show rows where this happens\n",
    "header_rows = data[mask]\n",
    "print(header_rows)"
   ]
  },
  {
   "cell_type": "code",
   "execution_count": 4,
   "id": "f799c99b-6e06-40a1-b266-4f00700e852e",
   "metadata": {},
   "outputs": [
    {
     "data": {
      "text/html": [
       "<div>\n",
       "<style scoped>\n",
       "    .dataframe tbody tr th:only-of-type {\n",
       "        vertical-align: middle;\n",
       "    }\n",
       "\n",
       "    .dataframe tbody tr th {\n",
       "        vertical-align: top;\n",
       "    }\n",
       "\n",
       "    .dataframe thead th {\n",
       "        text-align: right;\n",
       "    }\n",
       "</style>\n",
       "<table border=\"1\" class=\"dataframe\">\n",
       "  <thead>\n",
       "    <tr style=\"text-align: right;\">\n",
       "      <th></th>\n",
       "      <th>customer_id</th>\n",
       "      <th>name</th>\n",
       "      <th>age</th>\n",
       "      <th>gender</th>\n",
       "      <th>owns_car</th>\n",
       "      <th>owns_house</th>\n",
       "      <th>no_of_children</th>\n",
       "      <th>net_yearly_income</th>\n",
       "      <th>no_of_days_employed</th>\n",
       "      <th>occupation_type</th>\n",
       "      <th>total_family_members</th>\n",
       "      <th>migrant_worker</th>\n",
       "      <th>yearly_debt_payments</th>\n",
       "      <th>credit_limit</th>\n",
       "      <th>credit_limit_used(%)</th>\n",
       "      <th>credit_score</th>\n",
       "      <th>prev_defaults</th>\n",
       "      <th>default_in_last_6months</th>\n",
       "      <th>credit_card_default</th>\n",
       "    </tr>\n",
       "  </thead>\n",
       "  <tbody>\n",
       "    <tr>\n",
       "      <th>0</th>\n",
       "      <td>CST_115179</td>\n",
       "      <td>ita Bose</td>\n",
       "      <td>46</td>\n",
       "      <td>F</td>\n",
       "      <td>N</td>\n",
       "      <td>Y</td>\n",
       "      <td>0.0</td>\n",
       "      <td>107934.04</td>\n",
       "      <td>612.0</td>\n",
       "      <td>Unknown</td>\n",
       "      <td>1.0</td>\n",
       "      <td>1.0</td>\n",
       "      <td>33070.28</td>\n",
       "      <td>18690.93</td>\n",
       "      <td>73</td>\n",
       "      <td>544.0</td>\n",
       "      <td>2</td>\n",
       "      <td>1</td>\n",
       "      <td>1.0</td>\n",
       "    </tr>\n",
       "    <tr>\n",
       "      <th>1</th>\n",
       "      <td>CST_121920</td>\n",
       "      <td>Alper Jonathan</td>\n",
       "      <td>29</td>\n",
       "      <td>M</td>\n",
       "      <td>N</td>\n",
       "      <td>Y</td>\n",
       "      <td>0.0</td>\n",
       "      <td>109862.62</td>\n",
       "      <td>2771.0</td>\n",
       "      <td>Laborers</td>\n",
       "      <td>2.0</td>\n",
       "      <td>0.0</td>\n",
       "      <td>15329.53</td>\n",
       "      <td>37745.19</td>\n",
       "      <td>52</td>\n",
       "      <td>857.0</td>\n",
       "      <td>0</td>\n",
       "      <td>0</td>\n",
       "      <td>0.0</td>\n",
       "    </tr>\n",
       "    <tr>\n",
       "      <th>2</th>\n",
       "      <td>CST_109330</td>\n",
       "      <td>Umesh Desai</td>\n",
       "      <td>37</td>\n",
       "      <td>M</td>\n",
       "      <td>N</td>\n",
       "      <td>Y</td>\n",
       "      <td>0.0</td>\n",
       "      <td>230153.17</td>\n",
       "      <td>204.0</td>\n",
       "      <td>Laborers</td>\n",
       "      <td>2.0</td>\n",
       "      <td>0.0</td>\n",
       "      <td>48416.60</td>\n",
       "      <td>41598.36</td>\n",
       "      <td>43</td>\n",
       "      <td>650.0</td>\n",
       "      <td>0</td>\n",
       "      <td>0</td>\n",
       "      <td>0.0</td>\n",
       "    </tr>\n",
       "    <tr>\n",
       "      <th>3</th>\n",
       "      <td>CST_128288</td>\n",
       "      <td>Rie</td>\n",
       "      <td>39</td>\n",
       "      <td>F</td>\n",
       "      <td>N</td>\n",
       "      <td>Y</td>\n",
       "      <td>0.0</td>\n",
       "      <td>122325.82</td>\n",
       "      <td>11941.0</td>\n",
       "      <td>Core staff</td>\n",
       "      <td>2.0</td>\n",
       "      <td>0.0</td>\n",
       "      <td>22574.36</td>\n",
       "      <td>32627.76</td>\n",
       "      <td>20</td>\n",
       "      <td>754.0</td>\n",
       "      <td>0</td>\n",
       "      <td>0</td>\n",
       "      <td>0.0</td>\n",
       "    </tr>\n",
       "    <tr>\n",
       "      <th>4</th>\n",
       "      <td>CST_151355</td>\n",
       "      <td>McCool</td>\n",
       "      <td>46</td>\n",
       "      <td>M</td>\n",
       "      <td>Y</td>\n",
       "      <td>Y</td>\n",
       "      <td>0.0</td>\n",
       "      <td>387286.00</td>\n",
       "      <td>1459.0</td>\n",
       "      <td>Core staff</td>\n",
       "      <td>1.0</td>\n",
       "      <td>0.0</td>\n",
       "      <td>38282.95</td>\n",
       "      <td>52950.64</td>\n",
       "      <td>75</td>\n",
       "      <td>927.0</td>\n",
       "      <td>0</td>\n",
       "      <td>0</td>\n",
       "      <td>0.0</td>\n",
       "    </tr>\n",
       "  </tbody>\n",
       "</table>\n",
       "</div>"
      ],
      "text/plain": [
       "  customer_id            name  age gender owns_car owns_house  no_of_children  \\\n",
       "0  CST_115179        ita Bose   46      F        N          Y             0.0   \n",
       "1  CST_121920  Alper Jonathan   29      M        N          Y             0.0   \n",
       "2  CST_109330     Umesh Desai   37      M        N          Y             0.0   \n",
       "3  CST_128288             Rie   39      F        N          Y             0.0   \n",
       "4  CST_151355          McCool   46      M        Y          Y             0.0   \n",
       "\n",
       "   net_yearly_income  no_of_days_employed occupation_type  \\\n",
       "0          107934.04                612.0         Unknown   \n",
       "1          109862.62               2771.0        Laborers   \n",
       "2          230153.17                204.0        Laborers   \n",
       "3          122325.82              11941.0      Core staff   \n",
       "4          387286.00               1459.0      Core staff   \n",
       "\n",
       "   total_family_members  migrant_worker  yearly_debt_payments  credit_limit  \\\n",
       "0                   1.0             1.0              33070.28      18690.93   \n",
       "1                   2.0             0.0              15329.53      37745.19   \n",
       "2                   2.0             0.0              48416.60      41598.36   \n",
       "3                   2.0             0.0              22574.36      32627.76   \n",
       "4                   1.0             0.0              38282.95      52950.64   \n",
       "\n",
       "   credit_limit_used(%)  credit_score  prev_defaults  default_in_last_6months  \\\n",
       "0                    73         544.0              2                        1   \n",
       "1                    52         857.0              0                        0   \n",
       "2                    43         650.0              0                        0   \n",
       "3                    20         754.0              0                        0   \n",
       "4                    75         927.0              0                        0   \n",
       "\n",
       "   credit_card_default  \n",
       "0                  1.0  \n",
       "1                  0.0  \n",
       "2                  0.0  \n",
       "3                  0.0  \n",
       "4                  0.0  "
      ]
     },
     "execution_count": 4,
     "metadata": {},
     "output_type": "execute_result"
    }
   ],
   "source": [
    "data.head()"
   ]
  },
  {
   "cell_type": "code",
   "execution_count": 5,
   "id": "8345e1d7-0c3f-432e-8f9a-aefcd3a99a51",
   "metadata": {},
   "outputs": [
    {
     "data": {
      "text/plain": [
       "credit_card_default\n",
       "0.0    0.918797\n",
       "1.0    0.081203\n",
       "Name: proportion, dtype: float64"
      ]
     },
     "execution_count": 5,
     "metadata": {},
     "output_type": "execute_result"
    }
   ],
   "source": [
    "data[\"credit_card_default\"].value_counts(normalize=True)"
   ]
  },
  {
   "cell_type": "code",
   "execution_count": 6,
   "id": "d1d19cb7-abfb-4f0c-a977-4ca9a52c20d1",
   "metadata": {},
   "outputs": [
    {
     "data": {
      "text/html": [
       "<div>\n",
       "<style scoped>\n",
       "    .dataframe tbody tr th:only-of-type {\n",
       "        vertical-align: middle;\n",
       "    }\n",
       "\n",
       "    .dataframe tbody tr th {\n",
       "        vertical-align: top;\n",
       "    }\n",
       "\n",
       "    .dataframe thead th {\n",
       "        text-align: right;\n",
       "    }\n",
       "</style>\n",
       "<table border=\"1\" class=\"dataframe\">\n",
       "  <thead>\n",
       "    <tr style=\"text-align: right;\">\n",
       "      <th></th>\n",
       "      <th>customer_id</th>\n",
       "      <th>name</th>\n",
       "      <th>age</th>\n",
       "      <th>gender</th>\n",
       "      <th>owns_car</th>\n",
       "      <th>owns_house</th>\n",
       "      <th>no_of_children</th>\n",
       "      <th>net_yearly_income</th>\n",
       "      <th>no_of_days_employed</th>\n",
       "      <th>occupation_type</th>\n",
       "      <th>total_family_members</th>\n",
       "      <th>migrant_worker</th>\n",
       "      <th>yearly_debt_payments</th>\n",
       "      <th>credit_limit</th>\n",
       "      <th>credit_limit_used(%)</th>\n",
       "      <th>credit_score</th>\n",
       "      <th>prev_defaults</th>\n",
       "      <th>default_in_last_6months</th>\n",
       "      <th>credit_card_default</th>\n",
       "    </tr>\n",
       "  </thead>\n",
       "  <tbody>\n",
       "    <tr>\n",
       "      <th>13726</th>\n",
       "      <td>CST_121931</td>\n",
       "      <td>David Milliken</td>\n",
       "      <td>42</td>\n",
       "      <td>M</td>\n",
       "      <td>Y</td>\n",
       "      <td>Y</td>\n",
       "      <td>0.0</td>\n",
       "      <td>510235.35</td>\n",
       "      <td>1195.0</td>\n",
       "      <td>Laborers</td>\n",
       "      <td>1.0</td>\n",
       "      <td>0.0</td>\n",
       "      <td>36638.24</td>\n",
       "      <td>138111.77</td>\n",
       "      <td>41</td>\n",
       "      <td>942.0</td>\n",
       "      <td>0</td>\n",
       "      <td>0</td>\n",
       "      <td>0.0</td>\n",
       "    </tr>\n",
       "    <tr>\n",
       "      <th>28269</th>\n",
       "      <td>CST_143895</td>\n",
       "      <td>Mirna</td>\n",
       "      <td>34</td>\n",
       "      <td>M</td>\n",
       "      <td>Y</td>\n",
       "      <td>N</td>\n",
       "      <td>1.0</td>\n",
       "      <td>241751.55</td>\n",
       "      <td>3044.0</td>\n",
       "      <td>Unknown</td>\n",
       "      <td>3.0</td>\n",
       "      <td>1.0</td>\n",
       "      <td>16568.29</td>\n",
       "      <td>34138.68</td>\n",
       "      <td>21</td>\n",
       "      <td>897.0</td>\n",
       "      <td>0</td>\n",
       "      <td>0</td>\n",
       "      <td>0.0</td>\n",
       "    </tr>\n",
       "    <tr>\n",
       "      <th>35949</th>\n",
       "      <td>CST_111287</td>\n",
       "      <td>Nicola Leske</td>\n",
       "      <td>29</td>\n",
       "      <td>F</td>\n",
       "      <td>N</td>\n",
       "      <td>Y</td>\n",
       "      <td>0.0</td>\n",
       "      <td>151943.32</td>\n",
       "      <td>7131.0</td>\n",
       "      <td>Unknown</td>\n",
       "      <td>2.0</td>\n",
       "      <td>0.0</td>\n",
       "      <td>8735.32</td>\n",
       "      <td>34747.47</td>\n",
       "      <td>10</td>\n",
       "      <td>745.0</td>\n",
       "      <td>0</td>\n",
       "      <td>0</td>\n",
       "      <td>0.0</td>\n",
       "    </tr>\n",
       "    <tr>\n",
       "      <th>49511</th>\n",
       "      <td>CST_124177</td>\n",
       "      <td>Smith Douglas</td>\n",
       "      <td>53</td>\n",
       "      <td>F</td>\n",
       "      <td>Y</td>\n",
       "      <td>N</td>\n",
       "      <td>0.0</td>\n",
       "      <td>308712.07</td>\n",
       "      <td>5547.0</td>\n",
       "      <td>Sales staff</td>\n",
       "      <td>1.0</td>\n",
       "      <td>0.0</td>\n",
       "      <td>35362.25</td>\n",
       "      <td>74242.46</td>\n",
       "      <td>20</td>\n",
       "      <td>670.0</td>\n",
       "      <td>0</td>\n",
       "      <td>0</td>\n",
       "      <td>NaN</td>\n",
       "    </tr>\n",
       "    <tr>\n",
       "      <th>55625</th>\n",
       "      <td>CST_136158</td>\n",
       "      <td>Michael</td>\n",
       "      <td>44</td>\n",
       "      <td>F</td>\n",
       "      <td>N</td>\n",
       "      <td>Y</td>\n",
       "      <td>0.0</td>\n",
       "      <td>268767.03</td>\n",
       "      <td>365252.0</td>\n",
       "      <td>Unknown</td>\n",
       "      <td>2.0</td>\n",
       "      <td>0.0</td>\n",
       "      <td>13707.06</td>\n",
       "      <td>62115.41</td>\n",
       "      <td>75</td>\n",
       "      <td>771.0</td>\n",
       "      <td>0</td>\n",
       "      <td>0</td>\n",
       "      <td>NaN</td>\n",
       "    </tr>\n",
       "    <tr>\n",
       "      <th>...</th>\n",
       "      <td>...</td>\n",
       "      <td>...</td>\n",
       "      <td>...</td>\n",
       "      <td>...</td>\n",
       "      <td>...</td>\n",
       "      <td>...</td>\n",
       "      <td>...</td>\n",
       "      <td>...</td>\n",
       "      <td>...</td>\n",
       "      <td>...</td>\n",
       "      <td>...</td>\n",
       "      <td>...</td>\n",
       "      <td>...</td>\n",
       "      <td>...</td>\n",
       "      <td>...</td>\n",
       "      <td>...</td>\n",
       "      <td>...</td>\n",
       "      <td>...</td>\n",
       "      <td>...</td>\n",
       "    </tr>\n",
       "    <tr>\n",
       "      <th>50872</th>\n",
       "      <td>CST_104715</td>\n",
       "      <td>Saeed Azhar</td>\n",
       "      <td>34</td>\n",
       "      <td>F</td>\n",
       "      <td>N</td>\n",
       "      <td>Y</td>\n",
       "      <td>0.0</td>\n",
       "      <td>151679.17</td>\n",
       "      <td>4519.0</td>\n",
       "      <td>Unknown</td>\n",
       "      <td>1.0</td>\n",
       "      <td>0.0</td>\n",
       "      <td>38811.67</td>\n",
       "      <td>18721.22</td>\n",
       "      <td>51</td>\n",
       "      <td>665.0</td>\n",
       "      <td>0</td>\n",
       "      <td>0</td>\n",
       "      <td>NaN</td>\n",
       "    </tr>\n",
       "    <tr>\n",
       "      <th>40311</th>\n",
       "      <td>CST_112250</td>\n",
       "      <td>Kevin Drawbaugh</td>\n",
       "      <td>46</td>\n",
       "      <td>F</td>\n",
       "      <td>N</td>\n",
       "      <td>Y</td>\n",
       "      <td>0.0</td>\n",
       "      <td>313616.68</td>\n",
       "      <td>10200.0</td>\n",
       "      <td>Laborers</td>\n",
       "      <td>2.0</td>\n",
       "      <td>0.0</td>\n",
       "      <td>18003.68</td>\n",
       "      <td>107733.08</td>\n",
       "      <td>56</td>\n",
       "      <td>854.0</td>\n",
       "      <td>0</td>\n",
       "      <td>0</td>\n",
       "      <td>0.0</td>\n",
       "    </tr>\n",
       "    <tr>\n",
       "      <th>32461</th>\n",
       "      <td>CST_121385</td>\n",
       "      <td>Kell</td>\n",
       "      <td>50</td>\n",
       "      <td>F</td>\n",
       "      <td>NaN</td>\n",
       "      <td>Y</td>\n",
       "      <td>2.0</td>\n",
       "      <td>569766.40</td>\n",
       "      <td>151.0</td>\n",
       "      <td>Accountants</td>\n",
       "      <td>4.0</td>\n",
       "      <td>1.0</td>\n",
       "      <td>86109.04</td>\n",
       "      <td>89113.78</td>\n",
       "      <td>56</td>\n",
       "      <td>843.0</td>\n",
       "      <td>0</td>\n",
       "      <td>0</td>\n",
       "      <td>0.0</td>\n",
       "    </tr>\n",
       "    <tr>\n",
       "      <th>30906</th>\n",
       "      <td>CST_126453</td>\n",
       "      <td>Martinne Geller</td>\n",
       "      <td>55</td>\n",
       "      <td>F</td>\n",
       "      <td>N</td>\n",
       "      <td>Y</td>\n",
       "      <td>0.0</td>\n",
       "      <td>158206.14</td>\n",
       "      <td>365247.0</td>\n",
       "      <td>Unknown</td>\n",
       "      <td>2.0</td>\n",
       "      <td>0.0</td>\n",
       "      <td>35924.66</td>\n",
       "      <td>26391.48</td>\n",
       "      <td>16</td>\n",
       "      <td>833.0</td>\n",
       "      <td>0</td>\n",
       "      <td>0</td>\n",
       "      <td>0.0</td>\n",
       "    </tr>\n",
       "    <tr>\n",
       "      <th>22404</th>\n",
       "      <td>CST_107338</td>\n",
       "      <td>Svea Herbst-Bayliss</td>\n",
       "      <td>33</td>\n",
       "      <td>F</td>\n",
       "      <td>N</td>\n",
       "      <td>Y</td>\n",
       "      <td>0.0</td>\n",
       "      <td>381841.19</td>\n",
       "      <td>4680.0</td>\n",
       "      <td>Private service staff</td>\n",
       "      <td>2.0</td>\n",
       "      <td>0.0</td>\n",
       "      <td>50892.50</td>\n",
       "      <td>79249.59</td>\n",
       "      <td>31</td>\n",
       "      <td>818.0</td>\n",
       "      <td>0</td>\n",
       "      <td>0</td>\n",
       "      <td>0.0</td>\n",
       "    </tr>\n",
       "  </tbody>\n",
       "</table>\n",
       "<p>30000 rows × 19 columns</p>\n",
       "</div>"
      ],
      "text/plain": [
       "      customer_id                 name  age gender owns_car owns_house  \\\n",
       "13726  CST_121931       David Milliken   42      M        Y          Y   \n",
       "28269  CST_143895                Mirna   34      M        Y          N   \n",
       "35949  CST_111287         Nicola Leske   29      F        N          Y   \n",
       "49511  CST_124177        Smith Douglas   53      F        Y          N   \n",
       "55625  CST_136158              Michael   44      F        N          Y   \n",
       "...           ...                  ...  ...    ...      ...        ...   \n",
       "50872  CST_104715          Saeed Azhar   34      F        N          Y   \n",
       "40311  CST_112250      Kevin Drawbaugh   46      F        N          Y   \n",
       "32461  CST_121385                 Kell   50      F      NaN          Y   \n",
       "30906  CST_126453      Martinne Geller   55      F        N          Y   \n",
       "22404  CST_107338  Svea Herbst-Bayliss   33      F        N          Y   \n",
       "\n",
       "       no_of_children  net_yearly_income  no_of_days_employed  \\\n",
       "13726             0.0          510235.35               1195.0   \n",
       "28269             1.0          241751.55               3044.0   \n",
       "35949             0.0          151943.32               7131.0   \n",
       "49511             0.0          308712.07               5547.0   \n",
       "55625             0.0          268767.03             365252.0   \n",
       "...               ...                ...                  ...   \n",
       "50872             0.0          151679.17               4519.0   \n",
       "40311             0.0          313616.68              10200.0   \n",
       "32461             2.0          569766.40                151.0   \n",
       "30906             0.0          158206.14             365247.0   \n",
       "22404             0.0          381841.19               4680.0   \n",
       "\n",
       "             occupation_type  total_family_members  migrant_worker  \\\n",
       "13726               Laborers                   1.0             0.0   \n",
       "28269                Unknown                   3.0             1.0   \n",
       "35949                Unknown                   2.0             0.0   \n",
       "49511            Sales staff                   1.0             0.0   \n",
       "55625                Unknown                   2.0             0.0   \n",
       "...                      ...                   ...             ...   \n",
       "50872                Unknown                   1.0             0.0   \n",
       "40311               Laborers                   2.0             0.0   \n",
       "32461            Accountants                   4.0             1.0   \n",
       "30906                Unknown                   2.0             0.0   \n",
       "22404  Private service staff                   2.0             0.0   \n",
       "\n",
       "       yearly_debt_payments  credit_limit  credit_limit_used(%)  credit_score  \\\n",
       "13726              36638.24     138111.77                    41         942.0   \n",
       "28269              16568.29      34138.68                    21         897.0   \n",
       "35949               8735.32      34747.47                    10         745.0   \n",
       "49511              35362.25      74242.46                    20         670.0   \n",
       "55625              13707.06      62115.41                    75         771.0   \n",
       "...                     ...           ...                   ...           ...   \n",
       "50872              38811.67      18721.22                    51         665.0   \n",
       "40311              18003.68     107733.08                    56         854.0   \n",
       "32461              86109.04      89113.78                    56         843.0   \n",
       "30906              35924.66      26391.48                    16         833.0   \n",
       "22404              50892.50      79249.59                    31         818.0   \n",
       "\n",
       "       prev_defaults  default_in_last_6months  credit_card_default  \n",
       "13726              0                        0                  0.0  \n",
       "28269              0                        0                  0.0  \n",
       "35949              0                        0                  0.0  \n",
       "49511              0                        0                  NaN  \n",
       "55625              0                        0                  NaN  \n",
       "...              ...                      ...                  ...  \n",
       "50872              0                        0                  NaN  \n",
       "40311              0                        0                  0.0  \n",
       "32461              0                        0                  0.0  \n",
       "30906              0                        0                  0.0  \n",
       "22404              0                        0                  0.0  \n",
       "\n",
       "[30000 rows x 19 columns]"
      ]
     },
     "execution_count": 6,
     "metadata": {},
     "output_type": "execute_result"
    }
   ],
   "source": [
    "df = data.sample(n = 30000, random_state = 42, replace = False)\n",
    "df"
   ]
  },
  {
   "cell_type": "code",
   "execution_count": 7,
   "id": "127f3f2b-43c3-444c-bc2c-5d6b1c987a99",
   "metadata": {},
   "outputs": [
    {
     "name": "stdout",
     "output_type": "stream",
     "text": [
      "(30000, 19)\n"
     ]
    }
   ],
   "source": [
    "# check shape and length\n",
    "print(df.shape)"
   ]
  },
  {
   "cell_type": "code",
   "execution_count": 8,
   "id": "42e5afdb-ba99-4d64-a3d2-32c8d66361a3",
   "metadata": {},
   "outputs": [
    {
     "name": "stdout",
     "output_type": "stream",
     "text": [
      "<class 'pandas.core.frame.DataFrame'>\n",
      "Index: 30000 entries, 13726 to 22404\n",
      "Data columns (total 19 columns):\n",
      " #   Column                   Non-Null Count  Dtype  \n",
      "---  ------                   --------------  -----  \n",
      " 0   customer_id              30000 non-null  object \n",
      " 1   name                     30000 non-null  object \n",
      " 2   age                      30000 non-null  int64  \n",
      " 3   gender                   30000 non-null  object \n",
      " 4   owns_car                 29651 non-null  object \n",
      " 5   owns_house               30000 non-null  object \n",
      " 6   no_of_children           29479 non-null  float64\n",
      " 7   net_yearly_income        30000 non-null  float64\n",
      " 8   no_of_days_employed      29712 non-null  float64\n",
      " 9   occupation_type          30000 non-null  object \n",
      " 10  total_family_members     29945 non-null  float64\n",
      " 11  migrant_worker           29950 non-null  float64\n",
      " 12  yearly_debt_payments     29937 non-null  float64\n",
      " 13  credit_limit             30000 non-null  float64\n",
      " 14  credit_limit_used(%)     30000 non-null  int64  \n",
      " 15  credit_score             29995 non-null  float64\n",
      " 16  prev_defaults            30000 non-null  int64  \n",
      " 17  default_in_last_6months  30000 non-null  int64  \n",
      " 18  credit_card_default      24080 non-null  float64\n",
      "dtypes: float64(9), int64(4), object(6)\n",
      "memory usage: 4.6+ MB\n"
     ]
    }
   ],
   "source": [
    "df.info()"
   ]
  },
  {
   "cell_type": "code",
   "execution_count": 9,
   "id": "70c86063-b086-4210-8949-262bb7e76438",
   "metadata": {},
   "outputs": [
    {
     "name": "stdout",
     "output_type": "stream",
     "text": [
      "no of cat feats:  6\n",
      "no of num feats:  13\n"
     ]
    }
   ],
   "source": [
    "#gives object type column name\n",
    "cat_feats = [col for col in df.columns if df[col].dtypes == \"object\"]\n",
    "#gives non object type column name\n",
    "num_feats =  [col for col in df.columns if df[col].dtypes != \"object\"]\n",
    "\n",
    "print(\"no of cat feats: \", len(cat_feats))\n",
    "print(\"no of num feats: \", len(num_feats))\n"
   ]
  },
  {
   "cell_type": "code",
   "execution_count": 10,
   "id": "39c58318-f278-4877-9e4d-9a328ee417b8",
   "metadata": {},
   "outputs": [
    {
     "data": {
      "text/plain": [
       "['age',\n",
       " 'no_of_children',\n",
       " 'net_yearly_income',\n",
       " 'no_of_days_employed',\n",
       " 'total_family_members',\n",
       " 'migrant_worker',\n",
       " 'yearly_debt_payments',\n",
       " 'credit_limit',\n",
       " 'credit_limit_used(%)',\n",
       " 'credit_score',\n",
       " 'prev_defaults',\n",
       " 'default_in_last_6months',\n",
       " 'credit_card_default']"
      ]
     },
     "execution_count": 10,
     "metadata": {},
     "output_type": "execute_result"
    }
   ],
   "source": [
    "\n",
    "num_feats\n"
   ]
  },
  {
   "cell_type": "code",
   "execution_count": 11,
   "id": "b6df98d3-9caf-4db0-a1d1-d467889cbd68",
   "metadata": {},
   "outputs": [
    {
     "data": {
      "text/plain": [
       "['customer_id', 'name', 'gender', 'owns_car', 'owns_house', 'occupation_type']"
      ]
     },
     "execution_count": 11,
     "metadata": {},
     "output_type": "execute_result"
    }
   ],
   "source": [
    "cat_feats"
   ]
  },
  {
   "cell_type": "code",
   "execution_count": 12,
   "id": "2a975f7d-e848-4ceb-af28-e11e2428dabf",
   "metadata": {},
   "outputs": [
    {
     "data": {
      "text/plain": [
       "np.int64(0)"
      ]
     },
     "execution_count": 12,
     "metadata": {},
     "output_type": "execute_result"
    }
   ],
   "source": [
    "#checks for duplicate\n",
    "df.duplicated().sum()"
   ]
  },
  {
   "cell_type": "code",
   "execution_count": 13,
   "id": "5ed5b6fc-98c6-41b4-855a-791063766d68",
   "metadata": {},
   "outputs": [
    {
     "data": {
      "text/plain": [
       "credit_card_default     5920\n",
       "no_of_children           521\n",
       "owns_car                 349\n",
       "no_of_days_employed      288\n",
       "yearly_debt_payments      63\n",
       "total_family_members      55\n",
       "migrant_worker            50\n",
       "credit_score               5\n",
       "age                        0\n",
       "customer_id                0\n",
       "dtype: int64"
      ]
     },
     "execution_count": 13,
     "metadata": {},
     "output_type": "execute_result"
    }
   ],
   "source": [
    "#checks for missing value(NaN)\n",
    "df.isnull().sum().sort_values(ascending=False).head(10)"
   ]
  },
  {
   "cell_type": "code",
   "execution_count": 14,
   "id": "ae03367f-c1dd-4c3c-ae5e-8bb4c92ee517",
   "metadata": {},
   "outputs": [
    {
     "name": "stdout",
     "output_type": "stream",
     "text": [
      "credit_card_default\n",
      "0.0    22108\n",
      "1.0     1972\n",
      "Name: count, dtype: int64\n",
      "credit_card_default\n",
      "0.0    0.918106\n",
      "1.0    0.081894\n",
      "Name: proportion, dtype: float64\n"
     ]
    }
   ],
   "source": [
    "print(df[\"credit_card_default\"].value_counts())\n",
    "print(df[\"credit_card_default\"].value_counts(normalize=True))"
   ]
  },
  {
   "cell_type": "code",
   "execution_count": 15,
   "id": "bbd6a3b0-1660-4922-9461-0f04528856bb",
   "metadata": {},
   "outputs": [
    {
     "name": "stdout",
     "output_type": "stream",
     "text": [
      "customer_id          0\n",
      "name                 0\n",
      "gender               0\n",
      "owns_car           349\n",
      "owns_house           0\n",
      "occupation_type      0\n",
      "dtype: int64\n"
     ]
    }
   ],
   "source": [
    "#checks for number of missing (NaN) values in the categorical columns\n",
    "print(df[cat_feats].isnull().sum())"
   ]
  },
  {
   "cell_type": "code",
   "execution_count": 16,
   "id": "be75a319-2d75-4ad1-a570-6ab484c81ffa",
   "metadata": {},
   "outputs": [
    {
     "name": "stdout",
     "output_type": "stream",
     "text": [
      "Column Name: customer_id\n",
      "customer_id\n",
      "CST_121931    0.000033\n",
      "CST_143895    0.000033\n",
      "CST_111287    0.000033\n",
      "CST_124177    0.000033\n",
      "CST_136158    0.000033\n",
      "                ...   \n",
      "CST_104715    0.000033\n",
      "CST_112250    0.000033\n",
      "CST_121385    0.000033\n",
      "CST_126453    0.000033\n",
      "CST_107338    0.000033\n",
      "Name: proportion, Length: 30000, dtype: float64\n",
      "\n",
      "\n",
      "Column Name: name\n",
      "name\n",
      "Jonathan              0.004567\n",
      "David                 0.004167\n",
      "Jonathan Stempel      0.003800\n",
      "Stempel               0.003600\n",
      "Jessica               0.003600\n",
      "                        ...   \n",
      "Singh Suvashree       0.000033\n",
      "Rojas                 0.000033\n",
      "Tamim                 0.000033\n",
      "ill Trott             0.000033\n",
      "Gabriela Baczynska    0.000033\n",
      "Name: proportion, Length: 3492, dtype: float64\n",
      "\n",
      "\n",
      "Column Name: gender\n",
      "gender\n",
      "F      0.659867\n",
      "M      0.340100\n",
      "XNA    0.000033\n",
      "Name: proportion, dtype: float64\n",
      "\n",
      "\n",
      "Column Name: owns_car\n",
      "owns_car\n",
      "N    0.662102\n",
      "Y    0.337898\n",
      "Name: proportion, dtype: float64\n",
      "\n",
      "\n",
      "Column Name: owns_house\n",
      "owns_house\n",
      "Y    0.6933\n",
      "N    0.3067\n",
      "Name: proportion, dtype: float64\n",
      "\n",
      "\n",
      "Column Name: occupation_type\n",
      "occupation_type\n",
      "Unknown                  0.313933\n",
      "Laborers                 0.178433\n",
      "Sales staff              0.103867\n",
      "Core staff               0.090800\n",
      "Managers                 0.069133\n",
      "Drivers                  0.059800\n",
      "High skill tech staff    0.037233\n",
      "Accountants              0.032867\n",
      "Medicine staff           0.027200\n",
      "Security staff           0.021700\n",
      "Cooking staff            0.019700\n",
      "Cleaning staff           0.014700\n",
      "Private service staff    0.009133\n",
      "Low-skill Laborers       0.006867\n",
      "Secretaries              0.004567\n",
      "Waiters/barmen staff     0.004567\n",
      "Realty agents            0.001933\n",
      "IT staff                 0.001867\n",
      "HR staff                 0.001700\n",
      "Name: proportion, dtype: float64\n",
      "\n",
      "\n"
     ]
    }
   ],
   "source": [
    "#print the distribution of values (as percentages)\n",
    "for i in cat_feats:\n",
    "    print(\"Column Name:\",i)\n",
    "    print(df[i].value_counts(normalize=True))\n",
    "    print(\"\\n\")"
   ]
  },
  {
   "cell_type": "code",
   "execution_count": 17,
   "id": "376ecb83-4f30-4fde-a3b0-454e7fdbd9ba",
   "metadata": {},
   "outputs": [
    {
     "data": {
      "text/html": [
       "<div>\n",
       "<style scoped>\n",
       "    .dataframe tbody tr th:only-of-type {\n",
       "        vertical-align: middle;\n",
       "    }\n",
       "\n",
       "    .dataframe tbody tr th {\n",
       "        vertical-align: top;\n",
       "    }\n",
       "\n",
       "    .dataframe thead th {\n",
       "        text-align: right;\n",
       "    }\n",
       "</style>\n",
       "<table border=\"1\" class=\"dataframe\">\n",
       "  <thead>\n",
       "    <tr style=\"text-align: right;\">\n",
       "      <th></th>\n",
       "      <th>customer_id</th>\n",
       "      <th>name</th>\n",
       "      <th>age</th>\n",
       "      <th>gender</th>\n",
       "      <th>owns_car</th>\n",
       "      <th>owns_house</th>\n",
       "      <th>no_of_children</th>\n",
       "      <th>net_yearly_income</th>\n",
       "      <th>no_of_days_employed</th>\n",
       "      <th>occupation_type</th>\n",
       "      <th>total_family_members</th>\n",
       "      <th>migrant_worker</th>\n",
       "      <th>yearly_debt_payments</th>\n",
       "      <th>credit_limit</th>\n",
       "      <th>credit_limit_used(%)</th>\n",
       "      <th>credit_score</th>\n",
       "      <th>prev_defaults</th>\n",
       "      <th>default_in_last_6months</th>\n",
       "      <th>credit_card_default</th>\n",
       "    </tr>\n",
       "  </thead>\n",
       "  <tbody>\n",
       "    <tr>\n",
       "      <th>28498</th>\n",
       "      <td>CST_144669</td>\n",
       "      <td>ernard</td>\n",
       "      <td>52</td>\n",
       "      <td>XNA</td>\n",
       "      <td>N</td>\n",
       "      <td>Y</td>\n",
       "      <td>2.0</td>\n",
       "      <td>203596.95</td>\n",
       "      <td>2806.0</td>\n",
       "      <td>Low-skill Laborers</td>\n",
       "      <td>4.0</td>\n",
       "      <td>0.0</td>\n",
       "      <td>14700.2</td>\n",
       "      <td>65487.34</td>\n",
       "      <td>40</td>\n",
       "      <td>669.0</td>\n",
       "      <td>0</td>\n",
       "      <td>0</td>\n",
       "      <td>0.0</td>\n",
       "    </tr>\n",
       "  </tbody>\n",
       "</table>\n",
       "</div>"
      ],
      "text/plain": [
       "      customer_id    name  age gender owns_car owns_house  no_of_children  \\\n",
       "28498  CST_144669  ernard   52    XNA        N          Y             2.0   \n",
       "\n",
       "       net_yearly_income  no_of_days_employed     occupation_type  \\\n",
       "28498          203596.95               2806.0  Low-skill Laborers   \n",
       "\n",
       "       total_family_members  migrant_worker  yearly_debt_payments  \\\n",
       "28498                   4.0             0.0               14700.2   \n",
       "\n",
       "       credit_limit  credit_limit_used(%)  credit_score  prev_defaults  \\\n",
       "28498      65487.34                    40         669.0              0   \n",
       "\n",
       "       default_in_last_6months  credit_card_default  \n",
       "28498                        0                  0.0  "
      ]
     },
     "execution_count": 17,
     "metadata": {},
     "output_type": "execute_result"
    }
   ],
   "source": [
    "#filter rows in your DataFrame df\n",
    "df[df['gender'] == 'XNA']"
   ]
  },
  {
   "cell_type": "code",
   "execution_count": 18,
   "id": "cf8d05a5-b3f4-4a91-8fc6-eb2879f4bf49",
   "metadata": {},
   "outputs": [
    {
     "data": {
      "text/plain": [
       "gender\n",
       "F    19796\n",
       "M    10204\n",
       "Name: count, dtype: int64"
      ]
     },
     "execution_count": 18,
     "metadata": {},
     "output_type": "execute_result"
    }
   ],
   "source": [
    "# change it to M as the name pronunces as Male\n",
    "df['gender'] = df['gender'].apply(lambda x: 'M' if x=='XNA' else x)\n",
    "df['gender'].value_counts()"
   ]
  },
  {
   "cell_type": "code",
   "execution_count": 19,
   "id": "75642ce8-e51c-44c0-ab55-ee6a4ad9ad2e",
   "metadata": {},
   "outputs": [
    {
     "name": "stderr",
     "output_type": "stream",
     "text": [
      "C:\\Users\\Administrator\\AppData\\Local\\Temp\\ipykernel_9052\\4059146536.py:2: FutureWarning: A value is trying to be set on a copy of a DataFrame or Series through chained assignment using an inplace method.\n",
      "The behavior will change in pandas 3.0. This inplace method will never work because the intermediate object on which we are setting values always behaves as a copy.\n",
      "\n",
      "For example, when doing 'df[col].method(value, inplace=True)', try using 'df.method({col: value}, inplace=True)' or df[col] = df[col].method(value) instead, to perform the operation inplace on the original object.\n",
      "\n",
      "\n",
      "  df['owns_car'].fillna(df['owns_car'].mode()[0], inplace=True)\n"
     ]
    }
   ],
   "source": [
    "# fill missing values (NaN) with mode of the data\n",
    "df['owns_car'].fillna(df['owns_car'].mode()[0], inplace=True)\n"
   ]
  },
  {
   "cell_type": "code",
   "execution_count": 20,
   "id": "60fcfe08-dcdf-49e0-8282-b3bc1323b682",
   "metadata": {},
   "outputs": [
    {
     "data": {
      "text/plain": [
       "owns_car\n",
       "N    0.666033\n",
       "Y    0.333967\n",
       "Name: proportion, dtype: float64"
      ]
     },
     "execution_count": 20,
     "metadata": {},
     "output_type": "execute_result"
    }
   ],
   "source": [
    "df[\"owns_car\"].value_counts(normalize=True)"
   ]
  },
  {
   "cell_type": "code",
   "execution_count": 21,
   "id": "ceb88389-066c-4dd9-96ef-9eb2ebbfefb4",
   "metadata": {},
   "outputs": [
    {
     "data": {
      "text/plain": [
       "customer_id        0\n",
       "name               0\n",
       "gender             0\n",
       "owns_car           0\n",
       "owns_house         0\n",
       "occupation_type    0\n",
       "dtype: int64"
      ]
     },
     "execution_count": 21,
     "metadata": {},
     "output_type": "execute_result"
    }
   ],
   "source": [
    "df[cat_feats].isnull().sum()"
   ]
  },
  {
   "cell_type": "code",
   "execution_count": 22,
   "id": "8b49af8b-7f72-4d70-9623-811e30881817",
   "metadata": {},
   "outputs": [
    {
     "data": {
      "text/plain": [
       "credit_card_default     5920\n",
       "no_of_children           521\n",
       "no_of_days_employed      288\n",
       "yearly_debt_payments      63\n",
       "total_family_members      55\n",
       "migrant_worker            50\n",
       "credit_score               5\n",
       "net_yearly_income          0\n",
       "age                        0\n",
       "credit_limit_used(%)       0\n",
       "dtype: int64"
      ]
     },
     "execution_count": 22,
     "metadata": {},
     "output_type": "execute_result"
    }
   ],
   "source": [
    "#Numerical features\n",
    "#top 10 numerical features in your DataFrame that have the most missing values\n",
    "df[num_feats].isnull().sum().sort_values(ascending=False).head(10)"
   ]
  },
  {
   "cell_type": "code",
   "execution_count": 23,
   "id": "5074afa9-c8f6-429b-bdb2-ed05dbbc1afc",
   "metadata": {},
   "outputs": [],
   "source": [
    "#no_of_days_employed\n",
    "#fill missing values based on the median\n",
    "occp_days_employed = df.groupby(by='occupation_type')['no_of_days_employed'].median()\n",
    "\n",
    "for i in occp_days_employed.index:\n",
    "    df['no_of_days_employed'] = np.where((df['no_of_days_employed'].isna()) & (df['occupation_type'] == i), occp_days_employed[i], df['no_of_days_employed'])"
   ]
  },
  {
   "cell_type": "code",
   "execution_count": 24,
   "id": "21895591-85e3-404f-96fc-e923b72799e1",
   "metadata": {},
   "outputs": [
    {
     "data": {
      "text/plain": [
       "np.int64(0)"
      ]
     },
     "execution_count": 24,
     "metadata": {},
     "output_type": "execute_result"
    }
   ],
   "source": [
    "#count the total number of missing (NaN) values \n",
    "df.no_of_days_employed.isna().sum()"
   ]
  },
  {
   "cell_type": "code",
   "execution_count": 25,
   "id": "de667dfb-de7e-4913-91f8-586b4f8b8cd6",
   "metadata": {},
   "outputs": [],
   "source": [
    "#yearly_debt_payments\n",
    "#If a group median is NaN, fill with the overall median:\n",
    "df['yearly_debt_payments'] = df['yearly_debt_payments'].fillna(\n",
    "    df.groupby('credit_card_default')['yearly_debt_payments'].transform('median')\n",
    ")\n",
    "df['yearly_debt_payments'] = df['yearly_debt_payments'].fillna(df['yearly_debt_payments'].median())\n",
    "\n"
   ]
  },
  {
   "cell_type": "code",
   "execution_count": 26,
   "id": "7b4c4b2a-f440-46e0-ba6f-893112b3eb17",
   "metadata": {},
   "outputs": [
    {
     "data": {
      "text/plain": [
       "np.int64(0)"
      ]
     },
     "execution_count": 26,
     "metadata": {},
     "output_type": "execute_result"
    }
   ],
   "source": [
    "df['yearly_debt_payments'].isna().sum()"
   ]
  },
  {
   "cell_type": "code",
   "execution_count": 27,
   "id": "2848f714-1b2f-454b-82f2-ff636831dd90",
   "metadata": {},
   "outputs": [
    {
     "data": {
      "text/plain": [
       "credit_card_default     5920\n",
       "no_of_children           521\n",
       "total_family_members      55\n",
       "migrant_worker            50\n",
       "credit_score               5\n",
       "dtype: int64"
      ]
     },
     "execution_count": 27,
     "metadata": {},
     "output_type": "execute_result"
    }
   ],
   "source": [
    "df[num_feats].isnull().sum().sort_values(ascending = False).head(5)"
   ]
  },
  {
   "cell_type": "code",
   "execution_count": 28,
   "id": "e37c7d5f-5f68-403b-bb07-d90a1107c56a",
   "metadata": {},
   "outputs": [
    {
     "data": {
      "text/plain": [
       "0    0.0\n",
       "Name: migrant_worker, dtype: float64"
      ]
     },
     "execution_count": 28,
     "metadata": {},
     "output_type": "execute_result"
    }
   ],
   "source": [
    "df['migrant_worker'].mode()"
   ]
  },
  {
   "cell_type": "code",
   "execution_count": 29,
   "id": "fe917d3d-04f5-4db9-94ac-89e7ee6df724",
   "metadata": {},
   "outputs": [
    {
     "name": "stderr",
     "output_type": "stream",
     "text": [
      "C:\\Users\\Administrator\\AppData\\Local\\Temp\\ipykernel_9052\\341355721.py:2: FutureWarning: A value is trying to be set on a copy of a DataFrame or Series through chained assignment using an inplace method.\n",
      "The behavior will change in pandas 3.0. This inplace method will never work because the intermediate object on which we are setting values always behaves as a copy.\n",
      "\n",
      "For example, when doing 'df[col].method(value, inplace=True)', try using 'df.method({col: value}, inplace=True)' or df[col] = df[col].method(value) instead, to perform the operation inplace on the original object.\n",
      "\n",
      "\n",
      "  df['migrant_worker'].fillna(df['migrant_worker'].mode()[0], inplace=True)\n"
     ]
    },
    {
     "data": {
      "text/plain": [
       "np.int64(0)"
      ]
     },
     "execution_count": 29,
     "metadata": {},
     "output_type": "execute_result"
    }
   ],
   "source": [
    "# imputing with mode of the data\n",
    "df['migrant_worker'].fillna(df['migrant_worker'].mode()[0], inplace=True)\n",
    "\n",
    "# check null values count\n",
    "df['migrant_worker'].isna().sum()"
   ]
  },
  {
   "cell_type": "code",
   "execution_count": 30,
   "id": "503cef52-6e08-4cd9-b484-a040d583fd33",
   "metadata": {},
   "outputs": [
    {
     "name": "stderr",
     "output_type": "stream",
     "text": [
      "C:\\Users\\Administrator\\AppData\\Local\\Temp\\ipykernel_9052\\3441678093.py:3: FutureWarning: A value is trying to be set on a copy of a DataFrame or Series through chained assignment using an inplace method.\n",
      "The behavior will change in pandas 3.0. This inplace method will never work because the intermediate object on which we are setting values always behaves as a copy.\n",
      "\n",
      "For example, when doing 'df[col].method(value, inplace=True)', try using 'df.method({col: value}, inplace=True)' or df[col] = df[col].method(value) instead, to perform the operation inplace on the original object.\n",
      "\n",
      "\n",
      "  df['total_family_members'].fillna(df['total_family_members'].mode()[0], inplace=True)\n"
     ]
    },
    {
     "data": {
      "text/plain": [
       "np.int64(0)"
      ]
     },
     "execution_count": 30,
     "metadata": {},
     "output_type": "execute_result"
    }
   ],
   "source": [
    "#total_family_members\n",
    "# imputing with mode of the data\n",
    "df['total_family_members'].fillna(df['total_family_members'].mode()[0], inplace=True)\n",
    "# check null values count\n",
    "df['total_family_members'].isna().sum()"
   ]
  },
  {
   "cell_type": "code",
   "execution_count": 31,
   "id": "7ac0f99d-6a7c-400e-ad71-1d3b27cb877f",
   "metadata": {},
   "outputs": [
    {
     "data": {
      "text/plain": [
       "credit_card_default    5920\n",
       "no_of_children          521\n",
       "credit_score              5\n",
       "age                       0\n",
       "net_yearly_income         0\n",
       "dtype: int64"
      ]
     },
     "execution_count": 31,
     "metadata": {},
     "output_type": "execute_result"
    }
   ],
   "source": [
    "df[num_feats].isnull().sum().sort_values(ascending = False).head(5)"
   ]
  },
  {
   "cell_type": "code",
   "execution_count": 32,
   "id": "cdbb4ace-6f88-4564-b071-5db82609ce01",
   "metadata": {},
   "outputs": [
    {
     "name": "stderr",
     "output_type": "stream",
     "text": [
      "C:\\Users\\Administrator\\AppData\\Local\\Temp\\ipykernel_9052\\1293685831.py:2: FutureWarning: A value is trying to be set on a copy of a DataFrame or Series through chained assignment using an inplace method.\n",
      "The behavior will change in pandas 3.0. This inplace method will never work because the intermediate object on which we are setting values always behaves as a copy.\n",
      "\n",
      "For example, when doing 'df[col].method(value, inplace=True)', try using 'df.method({col: value}, inplace=True)' or df[col] = df[col].method(value) instead, to perform the operation inplace on the original object.\n",
      "\n",
      "\n",
      "  df['no_of_children'].fillna(df['no_of_children'].mode()[0], inplace=True)\n"
     ]
    }
   ],
   "source": [
    "# fill no_of_children with mode of the data\n",
    "df['no_of_children'].fillna(df['no_of_children'].mode()[0], inplace=True)"
   ]
  },
  {
   "cell_type": "code",
   "execution_count": 33,
   "id": "5f48174b-b1a5-4bc0-a78e-55f1925d2998",
   "metadata": {},
   "outputs": [
    {
     "name": "stderr",
     "output_type": "stream",
     "text": [
      "C:\\Users\\Administrator\\AppData\\Local\\Temp\\ipykernel_9052\\3138362677.py:7: FutureWarning: A value is trying to be set on a copy of a DataFrame or Series through chained assignment using an inplace method.\n",
      "The behavior will change in pandas 3.0. This inplace method will never work because the intermediate object on which we are setting values always behaves as a copy.\n",
      "\n",
      "For example, when doing 'df[col].method(value, inplace=True)', try using 'df.method({col: value}, inplace=True)' or df[col] = df[col].method(value) instead, to perform the operation inplace on the original object.\n",
      "\n",
      "\n",
      "  df['credit_card_default'].fillna(df['credit_card_default'].mode()[0], inplace=True)\n"
     ]
    },
    {
     "data": {
      "text/plain": [
       "np.int64(1)"
      ]
     },
     "execution_count": 33,
     "metadata": {},
     "output_type": "execute_result"
    }
   ],
   "source": [
    "# Fill missing credit_score based on group median\n",
    "df['credit_score'] = df['credit_score'].fillna(\n",
    "    df.groupby('credit_card_default')['credit_score'].transform('median')\n",
    ")\n",
    "\n",
    "# Fill any remaining NaN with overall median\n",
    "df['credit_card_default'].fillna(df['credit_card_default'].mode()[0], inplace=True)\n",
    "\n",
    "\n",
    "# Verify\n",
    "df['credit_score'].isna().sum()\n"
   ]
  },
  {
   "cell_type": "code",
   "execution_count": 34,
   "id": "59d3b4ea-43f0-4cb7-a9f9-204782494ebb",
   "metadata": {},
   "outputs": [
    {
     "data": {
      "text/plain": [
       "credit_score               1\n",
       "no_of_children             0\n",
       "net_yearly_income          0\n",
       "no_of_days_employed        0\n",
       "age                        0\n",
       "total_family_members       0\n",
       "migrant_worker             0\n",
       "credit_limit               0\n",
       "yearly_debt_payments       0\n",
       "credit_limit_used(%)       0\n",
       "prev_defaults              0\n",
       "default_in_last_6months    0\n",
       "credit_card_default        0\n",
       "dtype: int64"
      ]
     },
     "execution_count": 34,
     "metadata": {},
     "output_type": "execute_result"
    }
   ],
   "source": [
    "df[num_feats].isnull().sum().sort_values(ascending = False)"
   ]
  },
  {
   "cell_type": "code",
   "execution_count": 35,
   "id": "7c9580e0-ee2b-4405-8e3e-f4fc03ad0926",
   "metadata": {},
   "outputs": [
    {
     "data": {
      "text/plain": [
       "customer_id                0\n",
       "name                       0\n",
       "age                        0\n",
       "gender                     0\n",
       "owns_car                   0\n",
       "owns_house                 0\n",
       "no_of_children             0\n",
       "net_yearly_income          0\n",
       "no_of_days_employed        0\n",
       "occupation_type            0\n",
       "total_family_members       0\n",
       "migrant_worker             0\n",
       "yearly_debt_payments       0\n",
       "credit_limit               0\n",
       "credit_limit_used(%)       0\n",
       "credit_score               1\n",
       "prev_defaults              0\n",
       "default_in_last_6months    0\n",
       "credit_card_default        0\n",
       "dtype: int64"
      ]
     },
     "execution_count": 35,
     "metadata": {},
     "output_type": "execute_result"
    }
   ],
   "source": [
    "df.isnull().sum()"
   ]
  },
  {
   "cell_type": "code",
   "execution_count": 36,
   "id": "9a5d077c-2df6-4820-b773-26a738242161",
   "metadata": {},
   "outputs": [
    {
     "data": {
      "image/png": "[encoded data removed]",
      "text/plain": [
       "<Figure size 640x480 with 1 Axes>"
      ]
     },
     "metadata": {},
     "output_type": "display_data"
    }
   ],
   "source": [
    "# Ploting Credit_default ratio\n",
    "total_default_values = df.credit_card_default.value_counts(ascending=True).values\n",
    "\n",
    "plt.figure()\n",
    "plt.pie(total_default_values, labels=['Defaulter', 'Not Defaulter'], autopct='%1.1f%%')\n",
    "plt.title('Defaulter Ratio', fontsize=18)\n",
    "plt.show()"
   ]
  },
  {
   "cell_type": "code",
   "execution_count": 37,
   "id": "baf0fb83-945a-4284-bbb5-ea9cffb34ff4",
   "metadata": {},
   "outputs": [
    {
     "name": "stderr",
     "output_type": "stream",
     "text": [
      "C:\\Users\\Administrator\\AppData\\Local\\Temp\\ipykernel_9052\\265951273.py:3: UserWarning: \n",
      "\n",
      "`distplot` is a deprecated function and will be removed in seaborn v0.14.0.\n",
      "\n",
      "Please adapt your code to use either `displot` (a figure-level function with\n",
      "similar flexibility) or `histplot` (an axes-level function for histograms).\n",
      "\n",
      "For a guide to updating your code to use the new functions, please see\n",
      "https://gist.github.com/mwaskom/de44147ed2974457ad6372750bbe5751\n",
      "\n",
      "  sns.distplot(df['age'])\n"
     ]
    },
    {
     "data": {
      "image/png": "[encoded data removed]",
      "text/plain": [
       "<Figure size 640x480 with 1 Axes>"
      ]
     },
     "metadata": {},
     "output_type": "display_data"
    }
   ],
   "source": [
    "# visualize AGE feature - distplot\n",
    "plt.figure()\n",
    "sns.distplot(df['age'])\n",
    "plt.show()"
   ]
  },
  {
   "cell_type": "code",
   "execution_count": 38,
   "id": "e2543211-f6c6-41f6-a31a-2531c55149b5",
   "metadata": {},
   "outputs": [
    {
     "data": {
      "image/png": "[encoded data removed]",
      "text/plain": [
       "<Figure size 700x600 with 1 Axes>"
      ]
     },
     "metadata": {},
     "output_type": "display_data"
    }
   ],
   "source": [
    "# boxplot of credit_defaulter-credit_score\n",
    "plt.figure(figsize=[7, 6])\n",
    "sns.boxplot(x='credit_card_default', y='credit_score', data=df)\n",
    "plt.show()\n"
   ]
  },
  {
   "cell_type": "code",
   "execution_count": 39,
   "id": "8eca30ad-fa23-45d8-8c1b-4d849b175649",
   "metadata": {},
   "outputs": [
    {
     "data": {
      "image/png": "[encoded data removed]",
      "text/plain": [
       "<Figure size 700x600 with 1 Axes>"
      ]
     },
     "metadata": {},
     "output_type": "display_data"
    }
   ],
   "source": [
    "plt.figure(figsize=[7, 6])\n",
    "sns.boxplot(x='credit_card_default', y='credit_limit_used(%)', data=df)\n",
    "plt.show()"
   ]
  },
  {
   "cell_type": "code",
   "execution_count": 40,
   "id": "95e7e197-07df-483b-96ce-68c2918963c1",
   "metadata": {},
   "outputs": [
    {
     "data": {
      "image/png": "[encoded data removed]",
      "text/plain": [
       "<Figure size 1800x800 with 1 Axes>"
      ]
     },
     "metadata": {},
     "output_type": "display_data"
    }
   ],
   "source": [
    "plt.figure(figsize=[18,8])\n",
    "sns.barplot(x=df['occupation_type'], y=df['net_yearly_income'], hue=df['credit_card_default'])\n",
    "plt.xticks(rotation=45)\n",
    "plt.show()\n"
   ]
  },
  {
   "cell_type": "code",
   "execution_count": 41,
   "id": "bc24d5aa-2b5a-444f-abdc-cf782cacd70a",
   "metadata": {},
   "outputs": [
    {
     "data": {
      "image/png": "[encoded data removed]",
      "text/plain": [
       "<Figure size 700x600 with 1 Axes>"
      ]
     },
     "metadata": {},
     "output_type": "display_data"
    }
   ],
   "source": [
    "plt.figure(figsize=[7, 6])\n",
    "sns.countplot(x='gender', hue='credit_card_default', data=df)\n",
    "plt.show()"
   ]
  },
  {
   "cell_type": "code",
   "execution_count": 42,
   "id": "e2695f14-b57f-4fbd-84c0-714e7ca46bbb",
   "metadata": {},
   "outputs": [
    {
     "data": {
      "image/png": "[encoded data removed]",
      "text/plain": [
       "<Figure size 1600x1200 with 5 Axes>"
      ]
     },
     "metadata": {},
     "output_type": "display_data"
    }
   ],
   "source": [
    "# boxplot of all continuous variables\n",
    "\n",
    "plt.figure(figsize=[16, 12])\n",
    "plt.subplot(2,3,1)\n",
    "df['net_yearly_income'].plot.box()\n",
    "plt.title('net_yearly_income Box Plot')\n",
    "\n",
    "plt.subplot(2,3,2)\n",
    "df['no_of_days_employed'].plot.box()\n",
    "plt.title('no_of_days_employed Box Plot')\n",
    "\n",
    "plt.subplot(2,3,3)\n",
    "df['yearly_debt_payments'].plot.box()\n",
    "plt.title('yearly_debt_payments Box Plot')\n",
    "\n",
    "plt.subplot(2,3,4)\n",
    "df['credit_limit'].plot.box()\n",
    "plt.title('credit_limit Box Plot')\n",
    "\n",
    "plt.subplot(2,3,5)\n",
    "df['credit_score'].plot.box()\n",
    "plt.title('credit_score Box Plot')\n",
    "plt.show()"
   ]
  },
  {
   "cell_type": "code",
   "execution_count": 43,
   "id": "bed43cb2-863b-4b87-88a2-4c22fd08782c",
   "metadata": {},
   "outputs": [
    {
     "name": "stdout",
     "output_type": "stream",
     "text": [
      "age: 0 outliers\n",
      "no_of_children: 451 outliers\n",
      "net_yearly_income: 1278 outliers\n",
      "no_of_days_employed: 5457 outliers\n",
      "total_family_members: 429 outliers\n",
      "migrant_worker: 5314 outliers\n",
      "yearly_debt_payments: 726 outliers\n",
      "credit_limit: 1335 outliers\n",
      "credit_limit_used(%): 0 outliers\n",
      "credit_score: 0 outliers\n",
      "prev_defaults: 1586 outliers\n",
      "default_in_last_6months: 1499 outliers\n",
      "credit_card_default: 1972 outliers\n"
     ]
    }
   ],
   "source": [
    "def detect_outliers_iqr(data, columns):\n",
    "    outlier_summary = {}\n",
    "\n",
    "    for col in columns:\n",
    "        Q1 = data[col].quantile(0.25)\n",
    "        Q3 = data[col].quantile(0.75)\n",
    "        IQR = Q3 - Q1\n",
    "        lower_bound = Q1 - 1.5 * IQR\n",
    "        upper_bound = Q3 + 1.5 * IQR\n",
    "        outliers = data[(data[col] < lower_bound) | (data[col] > upper_bound)]\n",
    "        outlier_summary[col] = len(outliers)\n",
    "    \n",
    "    return outlier_summary\n",
    "\n",
    "numeric_cols = df.select_dtypes(include=['float64', 'int64']).columns\n",
    "outlier_counts = detect_outliers_iqr(df, numeric_cols)\n",
    "\n",
    "for col, count in outlier_counts.items():\n",
    "    print(f\"{col}: {count} outliers\")\n"
   ]
  },
  {
   "cell_type": "code",
   "execution_count": 44,
   "id": "aea60bbe-db3f-4419-b1b0-072a2412c8f7",
   "metadata": {},
   "outputs": [
    {
     "data": {
      "image/png": "[encoded data removed]",
      "text/plain": [
       "<Figure size 2000x2000 with 5 Axes>"
      ]
     },
     "metadata": {},
     "output_type": "display_data"
    }
   ],
   "source": [
    "import matplotlib.pyplot as plt\n",
    "\n",
    "cols_with_outliers = [\n",
    "    'no_of_children', 'net_yearly_income', 'no_of_days_employed', 'yearly_debt_payments', 'credit_limit'\n",
    "]\n",
    "\n",
    "plt.figure(figsize=(20, 20))\n",
    "\n",
    "for i, col in enumerate(cols_with_outliers, 1):\n",
    "    plt.subplot(4, 3, i)\n",
    "    df[col].plot.box()\n",
    "    plt.title(f'{col} Boxplot')\n",
    "\n",
    "plt.tight_layout()\n",
    "plt.show()"
   ]
  },
  {
   "cell_type": "code",
   "execution_count": 45,
   "id": "640db852-2c4c-44b6-8372-a474aada3489",
   "metadata": {},
   "outputs": [],
   "source": [
    "# List of columns with outliers\n",
    "outlier_cols = ['no_of_children', 'net_yearly_income', 'no_of_days_employed', 'yearly_debt_payments', 'credit_limit']\n",
    "\n",
    "# Remove outliers using IQR method\n",
    "for col in outlier_cols:\n",
    "    Q1 = df[col].quantile(0.25)\n",
    "    Q3 = df[col].quantile(0.75)\n",
    "    IQR = Q3 - Q1\n",
    "    lower = Q1 - 1.5 * IQR\n",
    "    upper = Q3 + 1.5 * IQR\n",
    "    df = df[(df[col] >= lower) & (df[col] <= upper)]"
   ]
  },
  {
   "cell_type": "code",
   "execution_count": 46,
   "id": "df78b38a-279e-455e-b32b-8743525a2ddb",
   "metadata": {},
   "outputs": [],
   "source": [
    "def remove_outliers_iqr(df, columns):\n",
    "    for col in columns:\n",
    "        Q1 = df[col].quantile(0.25)\n",
    "        Q3 = df[col].quantile(0.75)\n",
    "        IQR = Q3 - Q1\n",
    "        lower = Q1 - 1.5 * IQR\n",
    "        upper = Q3 + 1.5 * IQR\n",
    "        df = df[(df[col] >= lower) & (df[col] <= upper)]\n",
    "    return df\n",
    "\n",
    "# Columns with outliers\n",
    "cols_with_outliers = [\n",
    "    'no_of_children', 'net_yearly_income', 'no_of_days_employed', 'yearly_debt_payments', 'credit_limit'\n",
    "]\n",
    "\n",
    "# Apply the function\n",
    "df_cleaned = remove_outliers_iqr(df, cols_with_outliers)\n"
   ]
  },
  {
   "cell_type": "code",
   "execution_count": 47,
   "id": "ec75140b-9735-42ab-a8ad-729b584a71e1",
   "metadata": {
    "scrolled": true
   },
   "outputs": [
    {
     "data": {
      "image/png": "[encoded data removed]",
      "text/plain": [
       "<Figure size 2000x2000 with 5 Axes>"
      ]
     },
     "metadata": {},
     "output_type": "display_data"
    }
   ],
   "source": [
    "plt.figure(figsize=(20, 20))\n",
    "\n",
    "for i, col in enumerate(cols_with_outliers, 1):\n",
    "    plt.subplot(4, 3, i)\n",
    "    df_cleaned[col].plot.box()\n",
    "    plt.title(f'{col} Boxplot After Outlier Removal')\n",
    "\n",
    "plt.tight_layout()\n",
    "plt.show()"
   ]
  },
  {
   "cell_type": "code",
   "execution_count": 48,
   "id": "17bb3381-b244-4dd1-8fbe-d17787d905e0",
   "metadata": {},
   "outputs": [
    {
     "name": "stdout",
     "output_type": "stream",
     "text": [
      "Original shape: (21793, 19)\n",
      "After removing outliers: (19781, 19)\n"
     ]
    }
   ],
   "source": [
    "print(\"Original shape:\", df.shape)\n",
    "print(\"After removing outliers:\", df_cleaned.shape)\n",
    "df=df_cleaned"
   ]
  },
  {
   "cell_type": "code",
   "execution_count": 49,
   "id": "43fe6c40-79a9-4d7f-9148-fe32f1b6cc58",
   "metadata": {},
   "outputs": [
    {
     "data": {
      "text/html": [
       "<div>\n",
       "<style scoped>\n",
       "    .dataframe tbody tr th:only-of-type {\n",
       "        vertical-align: middle;\n",
       "    }\n",
       "\n",
       "    .dataframe tbody tr th {\n",
       "        vertical-align: top;\n",
       "    }\n",
       "\n",
       "    .dataframe thead th {\n",
       "        text-align: right;\n",
       "    }\n",
       "</style>\n",
       "<table border=\"1\" class=\"dataframe\">\n",
       "  <thead>\n",
       "    <tr style=\"text-align: right;\">\n",
       "      <th></th>\n",
       "      <th>customer_id</th>\n",
       "      <th>name</th>\n",
       "      <th>age</th>\n",
       "      <th>gender</th>\n",
       "      <th>owns_car</th>\n",
       "      <th>owns_house</th>\n",
       "      <th>no_of_children</th>\n",
       "      <th>net_yearly_income</th>\n",
       "      <th>no_of_days_employed</th>\n",
       "      <th>occupation_type</th>\n",
       "      <th>total_family_members</th>\n",
       "      <th>migrant_worker</th>\n",
       "      <th>yearly_debt_payments</th>\n",
       "      <th>credit_limit</th>\n",
       "      <th>credit_limit_used(%)</th>\n",
       "      <th>credit_score</th>\n",
       "      <th>prev_defaults</th>\n",
       "      <th>default_in_last_6months</th>\n",
       "      <th>credit_card_default</th>\n",
       "    </tr>\n",
       "  </thead>\n",
       "  <tbody>\n",
       "    <tr>\n",
       "      <th>28269</th>\n",
       "      <td>CST_143895</td>\n",
       "      <td>Mirna</td>\n",
       "      <td>34</td>\n",
       "      <td>1</td>\n",
       "      <td>1</td>\n",
       "      <td>0</td>\n",
       "      <td>1.0</td>\n",
       "      <td>241751.55</td>\n",
       "      <td>3044.0</td>\n",
       "      <td>Unknown</td>\n",
       "      <td>3.0</td>\n",
       "      <td>1.0</td>\n",
       "      <td>16568.29</td>\n",
       "      <td>34138.68</td>\n",
       "      <td>21</td>\n",
       "      <td>897.0</td>\n",
       "      <td>0</td>\n",
       "      <td>0</td>\n",
       "      <td>0.0</td>\n",
       "    </tr>\n",
       "    <tr>\n",
       "      <th>49511</th>\n",
       "      <td>CST_124177</td>\n",
       "      <td>Smith Douglas</td>\n",
       "      <td>53</td>\n",
       "      <td>0</td>\n",
       "      <td>1</td>\n",
       "      <td>0</td>\n",
       "      <td>0.0</td>\n",
       "      <td>308712.07</td>\n",
       "      <td>5547.0</td>\n",
       "      <td>Sales staff</td>\n",
       "      <td>1.0</td>\n",
       "      <td>0.0</td>\n",
       "      <td>35362.25</td>\n",
       "      <td>74242.46</td>\n",
       "      <td>20</td>\n",
       "      <td>670.0</td>\n",
       "      <td>0</td>\n",
       "      <td>0</td>\n",
       "      <td>0.0</td>\n",
       "    </tr>\n",
       "    <tr>\n",
       "      <th>16354</th>\n",
       "      <td>CST_154212</td>\n",
       "      <td>Marsh</td>\n",
       "      <td>48</td>\n",
       "      <td>0</td>\n",
       "      <td>0</td>\n",
       "      <td>1</td>\n",
       "      <td>0.0</td>\n",
       "      <td>71603.94</td>\n",
       "      <td>451.0</td>\n",
       "      <td>Cleaning staff</td>\n",
       "      <td>1.0</td>\n",
       "      <td>0.0</td>\n",
       "      <td>16140.65</td>\n",
       "      <td>10926.23</td>\n",
       "      <td>30</td>\n",
       "      <td>662.0</td>\n",
       "      <td>0</td>\n",
       "      <td>0</td>\n",
       "      <td>0.0</td>\n",
       "    </tr>\n",
       "    <tr>\n",
       "      <th>31454</th>\n",
       "      <td>CST_131569</td>\n",
       "      <td>Tim</td>\n",
       "      <td>49</td>\n",
       "      <td>0</td>\n",
       "      <td>1</td>\n",
       "      <td>0</td>\n",
       "      <td>0.0</td>\n",
       "      <td>162331.01</td>\n",
       "      <td>5424.0</td>\n",
       "      <td>Sales staff</td>\n",
       "      <td>2.0</td>\n",
       "      <td>0.0</td>\n",
       "      <td>32132.05</td>\n",
       "      <td>48369.73</td>\n",
       "      <td>8</td>\n",
       "      <td>926.0</td>\n",
       "      <td>0</td>\n",
       "      <td>0</td>\n",
       "      <td>0.0</td>\n",
       "    </tr>\n",
       "    <tr>\n",
       "      <th>936</th>\n",
       "      <td>CST_140361</td>\n",
       "      <td>en</td>\n",
       "      <td>30</td>\n",
       "      <td>0</td>\n",
       "      <td>1</td>\n",
       "      <td>0</td>\n",
       "      <td>0.0</td>\n",
       "      <td>219773.41</td>\n",
       "      <td>2256.0</td>\n",
       "      <td>Unknown</td>\n",
       "      <td>2.0</td>\n",
       "      <td>0.0</td>\n",
       "      <td>16868.46</td>\n",
       "      <td>58695.23</td>\n",
       "      <td>39</td>\n",
       "      <td>832.0</td>\n",
       "      <td>0</td>\n",
       "      <td>0</td>\n",
       "      <td>0.0</td>\n",
       "    </tr>\n",
       "    <tr>\n",
       "      <th>...</th>\n",
       "      <td>...</td>\n",
       "      <td>...</td>\n",
       "      <td>...</td>\n",
       "      <td>...</td>\n",
       "      <td>...</td>\n",
       "      <td>...</td>\n",
       "      <td>...</td>\n",
       "      <td>...</td>\n",
       "      <td>...</td>\n",
       "      <td>...</td>\n",
       "      <td>...</td>\n",
       "      <td>...</td>\n",
       "      <td>...</td>\n",
       "      <td>...</td>\n",
       "      <td>...</td>\n",
       "      <td>...</td>\n",
       "      <td>...</td>\n",
       "      <td>...</td>\n",
       "      <td>...</td>\n",
       "    </tr>\n",
       "    <tr>\n",
       "      <th>19695</th>\n",
       "      <td>CST_107728</td>\n",
       "      <td>Joe Brock</td>\n",
       "      <td>29</td>\n",
       "      <td>0</td>\n",
       "      <td>0</td>\n",
       "      <td>1</td>\n",
       "      <td>1.0</td>\n",
       "      <td>110625.32</td>\n",
       "      <td>2541.0</td>\n",
       "      <td>Core staff</td>\n",
       "      <td>2.0</td>\n",
       "      <td>0.0</td>\n",
       "      <td>23409.04</td>\n",
       "      <td>26073.90</td>\n",
       "      <td>86</td>\n",
       "      <td>813.0</td>\n",
       "      <td>0</td>\n",
       "      <td>0</td>\n",
       "      <td>0.0</td>\n",
       "    </tr>\n",
       "    <tr>\n",
       "      <th>41595</th>\n",
       "      <td>CST_155793</td>\n",
       "      <td>Shih</td>\n",
       "      <td>54</td>\n",
       "      <td>0</td>\n",
       "      <td>0</td>\n",
       "      <td>1</td>\n",
       "      <td>0.0</td>\n",
       "      <td>259753.20</td>\n",
       "      <td>742.0</td>\n",
       "      <td>Sales staff</td>\n",
       "      <td>2.0</td>\n",
       "      <td>0.0</td>\n",
       "      <td>29954.60</td>\n",
       "      <td>43590.55</td>\n",
       "      <td>90</td>\n",
       "      <td>870.0</td>\n",
       "      <td>0</td>\n",
       "      <td>0</td>\n",
       "      <td>0.0</td>\n",
       "    </tr>\n",
       "    <tr>\n",
       "      <th>46008</th>\n",
       "      <td>CST_132966</td>\n",
       "      <td>Tarmo</td>\n",
       "      <td>29</td>\n",
       "      <td>0</td>\n",
       "      <td>0</td>\n",
       "      <td>1</td>\n",
       "      <td>1.0</td>\n",
       "      <td>85449.90</td>\n",
       "      <td>791.0</td>\n",
       "      <td>Sales staff</td>\n",
       "      <td>2.0</td>\n",
       "      <td>0.0</td>\n",
       "      <td>8918.57</td>\n",
       "      <td>16987.64</td>\n",
       "      <td>37</td>\n",
       "      <td>762.0</td>\n",
       "      <td>0</td>\n",
       "      <td>0</td>\n",
       "      <td>0.0</td>\n",
       "    </tr>\n",
       "    <tr>\n",
       "      <th>50824</th>\n",
       "      <td>CST_125532</td>\n",
       "      <td>LaCapra</td>\n",
       "      <td>37</td>\n",
       "      <td>1</td>\n",
       "      <td>1</td>\n",
       "      <td>0</td>\n",
       "      <td>0.0</td>\n",
       "      <td>214208.75</td>\n",
       "      <td>217.0</td>\n",
       "      <td>Drivers</td>\n",
       "      <td>2.0</td>\n",
       "      <td>1.0</td>\n",
       "      <td>24677.75</td>\n",
       "      <td>31853.08</td>\n",
       "      <td>81</td>\n",
       "      <td>754.0</td>\n",
       "      <td>0</td>\n",
       "      <td>0</td>\n",
       "      <td>0.0</td>\n",
       "    </tr>\n",
       "    <tr>\n",
       "      <th>50872</th>\n",
       "      <td>CST_104715</td>\n",
       "      <td>Saeed Azhar</td>\n",
       "      <td>34</td>\n",
       "      <td>0</td>\n",
       "      <td>0</td>\n",
       "      <td>1</td>\n",
       "      <td>0.0</td>\n",
       "      <td>151679.17</td>\n",
       "      <td>4519.0</td>\n",
       "      <td>Unknown</td>\n",
       "      <td>1.0</td>\n",
       "      <td>0.0</td>\n",
       "      <td>38811.67</td>\n",
       "      <td>18721.22</td>\n",
       "      <td>51</td>\n",
       "      <td>665.0</td>\n",
       "      <td>0</td>\n",
       "      <td>0</td>\n",
       "      <td>0.0</td>\n",
       "    </tr>\n",
       "  </tbody>\n",
       "</table>\n",
       "<p>19781 rows × 19 columns</p>\n",
       "</div>"
      ],
      "text/plain": [
       "      customer_id           name  age  gender  owns_car  owns_house  \\\n",
       "28269  CST_143895          Mirna   34       1         1           0   \n",
       "49511  CST_124177  Smith Douglas   53       0         1           0   \n",
       "16354  CST_154212          Marsh   48       0         0           1   \n",
       "31454  CST_131569            Tim   49       0         1           0   \n",
       "936    CST_140361             en   30       0         1           0   \n",
       "...           ...            ...  ...     ...       ...         ...   \n",
       "19695  CST_107728      Joe Brock   29       0         0           1   \n",
       "41595  CST_155793           Shih   54       0         0           1   \n",
       "46008  CST_132966          Tarmo   29       0         0           1   \n",
       "50824  CST_125532        LaCapra   37       1         1           0   \n",
       "50872  CST_104715    Saeed Azhar   34       0         0           1   \n",
       "\n",
       "       no_of_children  net_yearly_income  no_of_days_employed occupation_type  \\\n",
       "28269             1.0          241751.55               3044.0         Unknown   \n",
       "49511             0.0          308712.07               5547.0     Sales staff   \n",
       "16354             0.0           71603.94                451.0  Cleaning staff   \n",
       "31454             0.0          162331.01               5424.0     Sales staff   \n",
       "936               0.0          219773.41               2256.0         Unknown   \n",
       "...               ...                ...                  ...             ...   \n",
       "19695             1.0          110625.32               2541.0      Core staff   \n",
       "41595             0.0          259753.20                742.0     Sales staff   \n",
       "46008             1.0           85449.90                791.0     Sales staff   \n",
       "50824             0.0          214208.75                217.0         Drivers   \n",
       "50872             0.0          151679.17               4519.0         Unknown   \n",
       "\n",
       "       total_family_members  migrant_worker  yearly_debt_payments  \\\n",
       "28269                   3.0             1.0              16568.29   \n",
       "49511                   1.0             0.0              35362.25   \n",
       "16354                   1.0             0.0              16140.65   \n",
       "31454                   2.0             0.0              32132.05   \n",
       "936                     2.0             0.0              16868.46   \n",
       "...                     ...             ...                   ...   \n",
       "19695                   2.0             0.0              23409.04   \n",
       "41595                   2.0             0.0              29954.60   \n",
       "46008                   2.0             0.0               8918.57   \n",
       "50824                   2.0             1.0              24677.75   \n",
       "50872                   1.0             0.0              38811.67   \n",
       "\n",
       "       credit_limit  credit_limit_used(%)  credit_score  prev_defaults  \\\n",
       "28269      34138.68                    21         897.0              0   \n",
       "49511      74242.46                    20         670.0              0   \n",
       "16354      10926.23                    30         662.0              0   \n",
       "31454      48369.73                     8         926.0              0   \n",
       "936        58695.23                    39         832.0              0   \n",
       "...             ...                   ...           ...            ...   \n",
       "19695      26073.90                    86         813.0              0   \n",
       "41595      43590.55                    90         870.0              0   \n",
       "46008      16987.64                    37         762.0              0   \n",
       "50824      31853.08                    81         754.0              0   \n",
       "50872      18721.22                    51         665.0              0   \n",
       "\n",
       "       default_in_last_6months  credit_card_default  \n",
       "28269                        0                  0.0  \n",
       "49511                        0                  0.0  \n",
       "16354                        0                  0.0  \n",
       "31454                        0                  0.0  \n",
       "936                          0                  0.0  \n",
       "...                        ...                  ...  \n",
       "19695                        0                  0.0  \n",
       "41595                        0                  0.0  \n",
       "46008                        0                  0.0  \n",
       "50824                        0                  0.0  \n",
       "50872                        0                  0.0  \n",
       "\n",
       "[19781 rows x 19 columns]"
      ]
     },
     "execution_count": 49,
     "metadata": {},
     "output_type": "execute_result"
    }
   ],
   "source": [
    "import pandas as pd\n",
    "\n",
    "# Encode gender: M → 1, F → 0\n",
    "df[\"gender\"] = df[\"gender\"].map({\"M\": 1, \"F\": 0})\n",
    "\n",
    "# Encode owns_car: Y → 1, N → 0\n",
    "df[\"owns_car\"] = df[\"owns_car\"].map({\"Y\": 1, \"N\": 0})\n",
    "\n",
    "# Encode owns_house: Y → 1, N → 0\n",
    "df[\"owns_house\"] = df[\"owns_house\"].map({\"Y\": 1, \"N\": 0})\n",
    "df"
   ]
  },
  {
   "cell_type": "code",
   "execution_count": 50,
   "id": "383b1d74-bde8-4896-ab09-5bc8d75c3541",
   "metadata": {},
   "outputs": [],
   "source": [
    "# If your cleaned DataFrame is named 'df_cleaned'\n",
    "df_cleaned.to_csv(\"cleaned_credit_data.csv\", index=False)"
   ]
  },
  {
   "cell_type": "code",
   "execution_count": 51,
   "id": "3d8a3908-6838-4f84-b6d1-e37305e2021f",
   "metadata": {},
   "outputs": [
    {
     "data": {
      "image/png": "[encoded data removed]",
      "text/plain": [
       "<Figure size 640x480 with 1 Axes>"
      ]
     },
     "metadata": {},
     "output_type": "display_data"
    }
   ],
   "source": [
    "total_default_values = df.credit_card_default.value_counts(ascending=True).values\n",
    "\n",
    "plt.figure()\n",
    "plt.pie(total_default_values, labels=['Defaulter', 'Not Defaulter'], autopct='%1.1f%%')\n",
    "plt.title('Defaulter Ratio', fontsize=18)\n",
    "plt.show()"
   ]
  },
  {
   "cell_type": "code",
   "execution_count": null,
   "id": "fe374e57-eeb6-4346-8c62-ea1ab95ede7d",
   "metadata": {},
   "outputs": [],
   "source": []
  }
 ],
 "metadata": {
  "kernelspec": {
   "display_name": "Python 3 (ipykernel)",
   "language": "python",
   "name": "python3"
  },
  "language_info": {
   "codemirror_mode": {
    "name": "ipython",
    "version": 3
   },
   "file_extension": ".py",
   "mimetype": "text/x-python",
   "name": "python",
   "nbconvert_exporter": "python",
   "pygments_lexer": "ipython3",
   "version": "3.13.2"
  }
 },
 "nbformat": 4,
 "nbformat_minor": 5
}
