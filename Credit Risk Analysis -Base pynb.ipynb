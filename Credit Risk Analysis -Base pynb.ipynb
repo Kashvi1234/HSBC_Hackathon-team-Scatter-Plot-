{
 "cells": [
  {
   "cell_type": "code",
   "execution_count": 192,
   "id": "8b1c4d1b",
   "metadata": {},
   "outputs": [],
   "source": [
    "import pandas as pd\n",
    "import numpy as np\n",
    "import matplotlib.pyplot as plt\n",
    "import seaborn as sns"
   ]
  },
  {
   "cell_type": "code",
   "execution_count": 193,
   "id": "aa279b3c",
   "metadata": {},
   "outputs": [],
   "source": [
    "import statsmodels\n",
    "import re"
   ]
  },
  {
   "cell_type": "code",
   "execution_count": 194,
   "id": "79a6ef9e",
   "metadata": {},
   "outputs": [],
   "source": [
    "from sklearn.preprocessing import MinMaxScaler, LabelEncoder, OneHotEncoder"
   ]
  },
  {
   "cell_type": "code",
   "execution_count": 195,
   "id": "84a59b7d",
   "metadata": {},
   "outputs": [],
   "source": [
    "from sklearn.model_selection import train_test_split"
   ]
  },
  {
   "cell_type": "code",
   "execution_count": 212,
   "id": "c1832799",
   "metadata": {},
   "outputs": [],
   "source": [
    "pd.set_option('display.max_columns', None)  "
   ]
  },
  {
   "cell_type": "code",
   "execution_count": 213,
   "id": "34f8a9af",
   "metadata": {},
   "outputs": [],
   "source": [
    "pd.set_option('display.max_colwidth', None)"
   ]
  },
  {
   "cell_type": "code",
   "execution_count": 214,
   "id": "75d80cf6",
   "metadata": {},
   "outputs": [
    {
     "data": {
      "text/html": [
       "<div>\n",
       "<style scoped>\n",
       "    .dataframe tbody tr th:only-of-type {\n",
       "        vertical-align: middle;\n",
       "    }\n",
       "\n",
       "    .dataframe tbody tr th {\n",
       "        vertical-align: top;\n",
       "    }\n",
       "\n",
       "    .dataframe thead th {\n",
       "        text-align: right;\n",
       "    }\n",
       "</style>\n",
       "<table border=\"1\" class=\"dataframe\">\n",
       "  <thead>\n",
       "    <tr style=\"text-align: right;\">\n",
       "      <th></th>\n",
       "      <th>customer_id</th>\n",
       "      <th>name</th>\n",
       "      <th>age</th>\n",
       "      <th>gender</th>\n",
       "      <th>owns_car</th>\n",
       "      <th>...</th>\n",
       "      <th>credit_limit_used(%)</th>\n",
       "      <th>credit_score</th>\n",
       "      <th>prev_defaults</th>\n",
       "      <th>default_in_last_6months</th>\n",
       "      <th>credit_card_default</th>\n",
       "    </tr>\n",
       "  </thead>\n",
       "  <tbody>\n",
       "    <tr>\n",
       "      <th>0</th>\n",
       "      <td>CST_115179</td>\n",
       "      <td>ita Bose</td>\n",
       "      <td>46</td>\n",
       "      <td>F</td>\n",
       "      <td>N</td>\n",
       "      <td>...</td>\n",
       "      <td>73</td>\n",
       "      <td>544.0</td>\n",
       "      <td>2</td>\n",
       "      <td>1</td>\n",
       "      <td>1</td>\n",
       "    </tr>\n",
       "    <tr>\n",
       "      <th>1</th>\n",
       "      <td>CST_121920</td>\n",
       "      <td>Alper Jonathan</td>\n",
       "      <td>29</td>\n",
       "      <td>M</td>\n",
       "      <td>N</td>\n",
       "      <td>...</td>\n",
       "      <td>52</td>\n",
       "      <td>857.0</td>\n",
       "      <td>0</td>\n",
       "      <td>0</td>\n",
       "      <td>0</td>\n",
       "    </tr>\n",
       "    <tr>\n",
       "      <th>2</th>\n",
       "      <td>CST_109330</td>\n",
       "      <td>Umesh Desai</td>\n",
       "      <td>37</td>\n",
       "      <td>M</td>\n",
       "      <td>N</td>\n",
       "      <td>...</td>\n",
       "      <td>43</td>\n",
       "      <td>650.0</td>\n",
       "      <td>0</td>\n",
       "      <td>0</td>\n",
       "      <td>0</td>\n",
       "    </tr>\n",
       "    <tr>\n",
       "      <th>3</th>\n",
       "      <td>CST_128288</td>\n",
       "      <td>Rie</td>\n",
       "      <td>39</td>\n",
       "      <td>F</td>\n",
       "      <td>N</td>\n",
       "      <td>...</td>\n",
       "      <td>20</td>\n",
       "      <td>754.0</td>\n",
       "      <td>0</td>\n",
       "      <td>0</td>\n",
       "      <td>0</td>\n",
       "    </tr>\n",
       "    <tr>\n",
       "      <th>4</th>\n",
       "      <td>CST_151355</td>\n",
       "      <td>McCool</td>\n",
       "      <td>46</td>\n",
       "      <td>M</td>\n",
       "      <td>Y</td>\n",
       "      <td>...</td>\n",
       "      <td>75</td>\n",
       "      <td>927.0</td>\n",
       "      <td>0</td>\n",
       "      <td>0</td>\n",
       "      <td>0</td>\n",
       "    </tr>\n",
       "  </tbody>\n",
       "</table>\n",
       "<p>5 rows × 19 columns</p>\n",
       "</div>"
      ],
      "text/plain": [
       "  customer_id            name  age gender owns_car  ... credit_limit_used(%)  \\\n",
       "0  CST_115179        ita Bose   46      F        N  ...                   73   \n",
       "1  CST_121920  Alper Jonathan   29      M        N  ...                   52   \n",
       "2  CST_109330     Umesh Desai   37      M        N  ...                   43   \n",
       "3  CST_128288             Rie   39      F        N  ...                   20   \n",
       "4  CST_151355          McCool   46      M        Y  ...                   75   \n",
       "\n",
       "   credit_score  prev_defaults  default_in_last_6months credit_card_default  \n",
       "0         544.0              2                        1                   1  \n",
       "1         857.0              0                        0                   0  \n",
       "2         650.0              0                        0                   0  \n",
       "3         754.0              0                        0                   0  \n",
       "4         927.0              0                        0                   0  \n",
       "\n",
       "[5 rows x 19 columns]"
      ]
     },
     "execution_count": 214,
     "metadata": {},
     "output_type": "execute_result"
    }
   ],
   "source": [
    "train = pd.read_csv('E:/HSBC/train.csv')\n",
    "train.head()"
   ]
  },
  {
   "cell_type": "code",
   "execution_count": 215,
   "id": "e97c2766",
   "metadata": {},
   "outputs": [
    {
     "data": {
      "text/plain": [
       "credit_card_default\n",
       "0    0.918797\n",
       "1    0.081203\n",
       "Name: proportion, dtype: float64"
      ]
     },
     "execution_count": 215,
     "metadata": {},
     "output_type": "execute_result"
    }
   ],
   "source": [
    "train[\"credit_card_default\"].value_counts(normalize=True)"
   ]
  },
  {
   "cell_type": "code",
   "execution_count": 216,
   "id": "7f129fd7",
   "metadata": {},
   "outputs": [
    {
     "data": {
      "text/html": [
       "<div>\n",
       "<style scoped>\n",
       "    .dataframe tbody tr th:only-of-type {\n",
       "        vertical-align: middle;\n",
       "    }\n",
       "\n",
       "    .dataframe tbody tr th {\n",
       "        vertical-align: top;\n",
       "    }\n",
       "\n",
       "    .dataframe thead th {\n",
       "        text-align: right;\n",
       "    }\n",
       "</style>\n",
       "<table border=\"1\" class=\"dataframe\">\n",
       "  <thead>\n",
       "    <tr style=\"text-align: right;\">\n",
       "      <th></th>\n",
       "      <th>customer_id</th>\n",
       "      <th>name</th>\n",
       "      <th>age</th>\n",
       "      <th>gender</th>\n",
       "      <th>owns_car</th>\n",
       "      <th>owns_house</th>\n",
       "      <th>no_of_children</th>\n",
       "      <th>net_yearly_income</th>\n",
       "      <th>no_of_days_employed</th>\n",
       "      <th>occupation_type</th>\n",
       "      <th>total_family_members</th>\n",
       "      <th>migrant_worker</th>\n",
       "      <th>yearly_debt_payments</th>\n",
       "      <th>credit_limit</th>\n",
       "      <th>credit_limit_used(%)</th>\n",
       "      <th>credit_score</th>\n",
       "      <th>prev_defaults</th>\n",
       "      <th>default_in_last_6months</th>\n",
       "      <th>credit_card_default</th>\n",
       "    </tr>\n",
       "  </thead>\n",
       "  <tbody>\n",
       "    <tr>\n",
       "      <th>34126</th>\n",
       "      <td>CST_163708</td>\n",
       "      <td>Wachtel</td>\n",
       "      <td>50</td>\n",
       "      <td>F</td>\n",
       "      <td>N</td>\n",
       "      <td>Y</td>\n",
       "      <td>0.0</td>\n",
       "      <td>269502.14</td>\n",
       "      <td>4181.0</td>\n",
       "      <td>Unknown</td>\n",
       "      <td>1.0</td>\n",
       "      <td>0.0</td>\n",
       "      <td>17440.44</td>\n",
       "      <td>36017.45</td>\n",
       "      <td>23</td>\n",
       "      <td>807.0</td>\n",
       "      <td>0</td>\n",
       "      <td>0</td>\n",
       "      <td>0</td>\n",
       "    </tr>\n",
       "    <tr>\n",
       "      <th>44609</th>\n",
       "      <td>CST_131305</td>\n",
       "      <td>Deepa</td>\n",
       "      <td>29</td>\n",
       "      <td>F</td>\n",
       "      <td>N</td>\n",
       "      <td>Y</td>\n",
       "      <td>0.0</td>\n",
       "      <td>115795.25</td>\n",
       "      <td>365250.0</td>\n",
       "      <td>Unknown</td>\n",
       "      <td>2.0</td>\n",
       "      <td>0.0</td>\n",
       "      <td>28962.21</td>\n",
       "      <td>21781.38</td>\n",
       "      <td>60</td>\n",
       "      <td>858.0</td>\n",
       "      <td>0</td>\n",
       "      <td>0</td>\n",
       "      <td>0</td>\n",
       "    </tr>\n",
       "    <tr>\n",
       "      <th>44264</th>\n",
       "      <td>CST_131350</td>\n",
       "      <td>Jason</td>\n",
       "      <td>39</td>\n",
       "      <td>F</td>\n",
       "      <td>N</td>\n",
       "      <td>Y</td>\n",
       "      <td>0.0</td>\n",
       "      <td>113477.67</td>\n",
       "      <td>365241.0</td>\n",
       "      <td>Unknown</td>\n",
       "      <td>2.0</td>\n",
       "      <td>0.0</td>\n",
       "      <td>27463.96</td>\n",
       "      <td>27485.15</td>\n",
       "      <td>81</td>\n",
       "      <td>667.0</td>\n",
       "      <td>0</td>\n",
       "      <td>0</td>\n",
       "      <td>1</td>\n",
       "    </tr>\n",
       "    <tr>\n",
       "      <th>33556</th>\n",
       "      <td>CST_106655</td>\n",
       "      <td>Gilbert Kreijger</td>\n",
       "      <td>35</td>\n",
       "      <td>F</td>\n",
       "      <td>Y</td>\n",
       "      <td>Y</td>\n",
       "      <td>1.0</td>\n",
       "      <td>215555.19</td>\n",
       "      <td>1882.0</td>\n",
       "      <td>Managers</td>\n",
       "      <td>3.0</td>\n",
       "      <td>0.0</td>\n",
       "      <td>47863.75</td>\n",
       "      <td>25054.25</td>\n",
       "      <td>32</td>\n",
       "      <td>690.0</td>\n",
       "      <td>0</td>\n",
       "      <td>0</td>\n",
       "      <td>0</td>\n",
       "    </tr>\n",
       "    <tr>\n",
       "      <th>28050</th>\n",
       "      <td>CST_154013</td>\n",
       "      <td>Slater</td>\n",
       "      <td>53</td>\n",
       "      <td>M</td>\n",
       "      <td>Y</td>\n",
       "      <td>Y</td>\n",
       "      <td>0.0</td>\n",
       "      <td>185082.22</td>\n",
       "      <td>365244.0</td>\n",
       "      <td>Unknown</td>\n",
       "      <td>2.0</td>\n",
       "      <td>0.0</td>\n",
       "      <td>47185.73</td>\n",
       "      <td>65186.23</td>\n",
       "      <td>65</td>\n",
       "      <td>721.0</td>\n",
       "      <td>0</td>\n",
       "      <td>0</td>\n",
       "      <td>0</td>\n",
       "    </tr>\n",
       "    <tr>\n",
       "      <th>...</th>\n",
       "      <td>...</td>\n",
       "      <td>...</td>\n",
       "      <td>...</td>\n",
       "      <td>...</td>\n",
       "      <td>...</td>\n",
       "      <td>...</td>\n",
       "      <td>...</td>\n",
       "      <td>...</td>\n",
       "      <td>...</td>\n",
       "      <td>...</td>\n",
       "      <td>...</td>\n",
       "      <td>...</td>\n",
       "      <td>...</td>\n",
       "      <td>...</td>\n",
       "      <td>...</td>\n",
       "      <td>...</td>\n",
       "      <td>...</td>\n",
       "      <td>...</td>\n",
       "      <td>...</td>\n",
       "    </tr>\n",
       "    <tr>\n",
       "      <th>37523</th>\n",
       "      <td>CST_113336</td>\n",
       "      <td>Leika Kihara</td>\n",
       "      <td>26</td>\n",
       "      <td>F</td>\n",
       "      <td>N</td>\n",
       "      <td>Y</td>\n",
       "      <td>0.0</td>\n",
       "      <td>95125.83</td>\n",
       "      <td>365244.0</td>\n",
       "      <td>Unknown</td>\n",
       "      <td>1.0</td>\n",
       "      <td>0.0</td>\n",
       "      <td>18408.08</td>\n",
       "      <td>26632.82</td>\n",
       "      <td>2</td>\n",
       "      <td>790.0</td>\n",
       "      <td>0</td>\n",
       "      <td>0</td>\n",
       "      <td>0</td>\n",
       "    </tr>\n",
       "    <tr>\n",
       "      <th>36228</th>\n",
       "      <td>CST_151817</td>\n",
       "      <td>Dixon</td>\n",
       "      <td>31</td>\n",
       "      <td>F</td>\n",
       "      <td>N</td>\n",
       "      <td>N</td>\n",
       "      <td>0.0</td>\n",
       "      <td>119277.91</td>\n",
       "      <td>891.0</td>\n",
       "      <td>Laborers</td>\n",
       "      <td>2.0</td>\n",
       "      <td>0.0</td>\n",
       "      <td>18243.68</td>\n",
       "      <td>16150.12</td>\n",
       "      <td>18</td>\n",
       "      <td>791.0</td>\n",
       "      <td>0</td>\n",
       "      <td>0</td>\n",
       "      <td>0</td>\n",
       "    </tr>\n",
       "    <tr>\n",
       "      <th>32772</th>\n",
       "      <td>CST_107659</td>\n",
       "      <td>P.J. Huffstutter</td>\n",
       "      <td>50</td>\n",
       "      <td>F</td>\n",
       "      <td>N</td>\n",
       "      <td>N</td>\n",
       "      <td>0.0</td>\n",
       "      <td>214846.93</td>\n",
       "      <td>1740.0</td>\n",
       "      <td>Sales staff</td>\n",
       "      <td>2.0</td>\n",
       "      <td>0.0</td>\n",
       "      <td>16482.42</td>\n",
       "      <td>27253.76</td>\n",
       "      <td>16</td>\n",
       "      <td>709.0</td>\n",
       "      <td>0</td>\n",
       "      <td>0</td>\n",
       "      <td>0</td>\n",
       "    </tr>\n",
       "    <tr>\n",
       "      <th>9762</th>\n",
       "      <td>CST_141352</td>\n",
       "      <td>an</td>\n",
       "      <td>25</td>\n",
       "      <td>M</td>\n",
       "      <td>N</td>\n",
       "      <td>Y</td>\n",
       "      <td>0.0</td>\n",
       "      <td>175005.61</td>\n",
       "      <td>653.0</td>\n",
       "      <td>Laborers</td>\n",
       "      <td>2.0</td>\n",
       "      <td>0.0</td>\n",
       "      <td>19366.06</td>\n",
       "      <td>35727.99</td>\n",
       "      <td>9</td>\n",
       "      <td>691.0</td>\n",
       "      <td>0</td>\n",
       "      <td>0</td>\n",
       "      <td>0</td>\n",
       "    </tr>\n",
       "    <tr>\n",
       "      <th>33325</th>\n",
       "      <td>CST_129867</td>\n",
       "      <td>Hyunjoo</td>\n",
       "      <td>50</td>\n",
       "      <td>F</td>\n",
       "      <td>N</td>\n",
       "      <td>N</td>\n",
       "      <td>0.0</td>\n",
       "      <td>139512.15</td>\n",
       "      <td>939.0</td>\n",
       "      <td>Core staff</td>\n",
       "      <td>1.0</td>\n",
       "      <td>1.0</td>\n",
       "      <td>17139.86</td>\n",
       "      <td>23630.38</td>\n",
       "      <td>49</td>\n",
       "      <td>791.0</td>\n",
       "      <td>0</td>\n",
       "      <td>0</td>\n",
       "      <td>0</td>\n",
       "    </tr>\n",
       "  </tbody>\n",
       "</table>\n",
       "<p>30000 rows × 19 columns</p>\n",
       "</div>"
      ],
      "text/plain": [
       "      customer_id              name  age gender owns_car owns_house  \\\n",
       "34126  CST_163708           Wachtel   50      F        N          Y   \n",
       "44609  CST_131305             Deepa   29      F        N          Y   \n",
       "44264  CST_131350             Jason   39      F        N          Y   \n",
       "33556  CST_106655  Gilbert Kreijger   35      F        Y          Y   \n",
       "28050  CST_154013            Slater   53      M        Y          Y   \n",
       "...           ...               ...  ...    ...      ...        ...   \n",
       "37523  CST_113336      Leika Kihara   26      F        N          Y   \n",
       "36228  CST_151817             Dixon   31      F        N          N   \n",
       "32772  CST_107659  P.J. Huffstutter   50      F        N          N   \n",
       "9762   CST_141352                an   25      M        N          Y   \n",
       "33325  CST_129867           Hyunjoo   50      F        N          N   \n",
       "\n",
       "       no_of_children  net_yearly_income  no_of_days_employed occupation_type  \\\n",
       "34126             0.0          269502.14               4181.0         Unknown   \n",
       "44609             0.0          115795.25             365250.0         Unknown   \n",
       "44264             0.0          113477.67             365241.0         Unknown   \n",
       "33556             1.0          215555.19               1882.0        Managers   \n",
       "28050             0.0          185082.22             365244.0         Unknown   \n",
       "...               ...                ...                  ...             ...   \n",
       "37523             0.0           95125.83             365244.0         Unknown   \n",
       "36228             0.0          119277.91                891.0        Laborers   \n",
       "32772             0.0          214846.93               1740.0     Sales staff   \n",
       "9762              0.0          175005.61                653.0        Laborers   \n",
       "33325             0.0          139512.15                939.0      Core staff   \n",
       "\n",
       "       total_family_members  migrant_worker  yearly_debt_payments  \\\n",
       "34126                   1.0             0.0              17440.44   \n",
       "44609                   2.0             0.0              28962.21   \n",
       "44264                   2.0             0.0              27463.96   \n",
       "33556                   3.0             0.0              47863.75   \n",
       "28050                   2.0             0.0              47185.73   \n",
       "...                     ...             ...                   ...   \n",
       "37523                   1.0             0.0              18408.08   \n",
       "36228                   2.0             0.0              18243.68   \n",
       "32772                   2.0             0.0              16482.42   \n",
       "9762                    2.0             0.0              19366.06   \n",
       "33325                   1.0             1.0              17139.86   \n",
       "\n",
       "       credit_limit  credit_limit_used(%)  credit_score  prev_defaults  \\\n",
       "34126      36017.45                    23         807.0              0   \n",
       "44609      21781.38                    60         858.0              0   \n",
       "44264      27485.15                    81         667.0              0   \n",
       "33556      25054.25                    32         690.0              0   \n",
       "28050      65186.23                    65         721.0              0   \n",
       "...             ...                   ...           ...            ...   \n",
       "37523      26632.82                     2         790.0              0   \n",
       "36228      16150.12                    18         791.0              0   \n",
       "32772      27253.76                    16         709.0              0   \n",
       "9762       35727.99                     9         691.0              0   \n",
       "33325      23630.38                    49         791.0              0   \n",
       "\n",
       "       default_in_last_6months  credit_card_default  \n",
       "34126                        0                    0  \n",
       "44609                        0                    0  \n",
       "44264                        0                    1  \n",
       "33556                        0                    0  \n",
       "28050                        0                    0  \n",
       "...                        ...                  ...  \n",
       "37523                        0                    0  \n",
       "36228                        0                    0  \n",
       "32772                        0                    0  \n",
       "9762                         0                    0  \n",
       "33325                        0                    0  \n",
       "\n",
       "[30000 rows x 19 columns]"
      ]
     },
     "execution_count": 216,
     "metadata": {},
     "output_type": "execute_result"
    }
   ],
   "source": [
    "df = train.sample(n = 30000, random_state = 42, replace = False)\n",
    "df"
   ]
  },
  {
   "cell_type": "markdown",
   "id": "ff0d2b17",
   "metadata": {},
   "source": [
    "# EDA"
   ]
  },
  {
   "cell_type": "code",
   "execution_count": 217,
   "id": "71d5c1a9",
   "metadata": {},
   "outputs": [
    {
     "name": "stdout",
     "output_type": "stream",
     "text": [
      "(30000, 19)\n"
     ]
    }
   ],
   "source": [
    "# check shape and length\n",
    "print(df.shape)"
   ]
  },
  {
   "cell_type": "code",
   "execution_count": 218,
   "id": "04cc7732",
   "metadata": {},
   "outputs": [
    {
     "name": "stdout",
     "output_type": "stream",
     "text": [
      "<class 'pandas.core.frame.DataFrame'>\n",
      "Index: 30000 entries, 34126 to 33325\n",
      "Data columns (total 19 columns):\n",
      " #   Column                   Non-Null Count  Dtype  \n",
      "---  ------                   --------------  -----  \n",
      " 0   customer_id              30000 non-null  object \n",
      " 1   name                     30000 non-null  object \n",
      " 2   age                      30000 non-null  int64  \n",
      " 3   gender                   30000 non-null  object \n",
      " 4   owns_car                 29631 non-null  object \n",
      " 5   owns_house               30000 non-null  object \n",
      " 6   no_of_children           29498 non-null  float64\n",
      " 7   net_yearly_income        30000 non-null  float64\n",
      " 8   no_of_days_employed      29685 non-null  float64\n",
      " 9   occupation_type          30000 non-null  object \n",
      " 10  total_family_members     29944 non-null  float64\n",
      " 11  migrant_worker           29947 non-null  float64\n",
      " 12  yearly_debt_payments     29938 non-null  float64\n",
      " 13  credit_limit             30000 non-null  float64\n",
      " 14  credit_limit_used(%)     30000 non-null  int64  \n",
      " 15  credit_score             29994 non-null  float64\n",
      " 16  prev_defaults            30000 non-null  int64  \n",
      " 17  default_in_last_6months  30000 non-null  int64  \n",
      " 18  credit_card_default      30000 non-null  int64  \n",
      "dtypes: float64(8), int64(5), object(6)\n",
      "memory usage: 4.6+ MB\n"
     ]
    }
   ],
   "source": [
    "df.info()"
   ]
  },
  {
   "cell_type": "markdown",
   "id": "a8665d03",
   "metadata": {},
   "source": [
    "## cat feats - num feats"
   ]
  },
  {
   "cell_type": "code",
   "execution_count": 219,
   "id": "0dc6dd41",
   "metadata": {},
   "outputs": [
    {
     "name": "stdout",
     "output_type": "stream",
     "text": [
      "no of cat feats:  6\n",
      "no of num feats:  13\n"
     ]
    }
   ],
   "source": [
    "cat_feats = [col for col in df.columns if df[col].dtypes == \"object\"]\n",
    "num_feats =  [col for col in df.columns if df[col].dtypes != \"object\"]\n",
    "\n",
    "print(\"no of cat feats: \", len(cat_feats))\n",
    "print(\"no of num feats: \", len(num_feats))"
   ]
  },
  {
   "cell_type": "code",
   "execution_count": 220,
   "id": "befab1a5",
   "metadata": {},
   "outputs": [
    {
     "data": {
      "text/plain": [
       "['customer_id', 'name', 'gender', 'owns_car', 'owns_house', 'occupation_type']"
      ]
     },
     "execution_count": 220,
     "metadata": {},
     "output_type": "execute_result"
    }
   ],
   "source": [
    "cat_feats"
   ]
  },
  {
   "cell_type": "code",
   "execution_count": 221,
   "id": "fcf103b6",
   "metadata": {},
   "outputs": [
    {
     "data": {
      "text/plain": [
       "['age',\n",
       " 'no_of_children',\n",
       " 'net_yearly_income',\n",
       " 'no_of_days_employed',\n",
       " 'total_family_members',\n",
       " 'migrant_worker',\n",
       " 'yearly_debt_payments',\n",
       " 'credit_limit',\n",
       " 'credit_limit_used(%)',\n",
       " 'credit_score',\n",
       " 'prev_defaults',\n",
       " 'default_in_last_6months',\n",
       " 'credit_card_default']"
      ]
     },
     "execution_count": 221,
     "metadata": {},
     "output_type": "execute_result"
    }
   ],
   "source": [
    "num_feats"
   ]
  },
  {
   "cell_type": "code",
   "execution_count": 222,
   "id": "111c9ac6",
   "metadata": {},
   "outputs": [
    {
     "data": {
      "text/plain": [
       "np.int64(0)"
      ]
     },
     "execution_count": 222,
     "metadata": {},
     "output_type": "execute_result"
    }
   ],
   "source": [
    "df.duplicated().sum()"
   ]
  },
  {
   "cell_type": "markdown",
   "id": "f3ab45bd",
   "metadata": {},
   "source": [
    "## isnull()"
   ]
  },
  {
   "cell_type": "code",
   "execution_count": 223,
   "id": "3e2553cc",
   "metadata": {},
   "outputs": [
    {
     "data": {
      "text/plain": [
       "no_of_children             502\n",
       "owns_car                   369\n",
       "no_of_days_employed        315\n",
       "yearly_debt_payments        62\n",
       "total_family_members        56\n",
       "migrant_worker              53\n",
       "credit_score                 6\n",
       "age                          0\n",
       "name                         0\n",
       "customer_id                  0\n",
       "owns_house                   0\n",
       "occupation_type              0\n",
       "net_yearly_income            0\n",
       "gender                       0\n",
       "credit_limit                 0\n",
       "credit_limit_used(%)         0\n",
       "prev_defaults                0\n",
       "default_in_last_6months      0\n",
       "credit_card_default          0\n",
       "dtype: int64"
      ]
     },
     "execution_count": 223,
     "metadata": {},
     "output_type": "execute_result"
    }
   ],
   "source": [
    "df.isnull().sum().sort_values(ascending=False)"
   ]
  },
  {
   "cell_type": "markdown",
   "id": "f6dd6db4",
   "metadata": {},
   "source": [
    "## View default variable state"
   ]
  },
  {
   "cell_type": "code",
   "execution_count": 224,
   "id": "8dd124d3",
   "metadata": {},
   "outputs": [
    {
     "data": {
      "text/plain": [
       "credit_card_default\n",
       "0    27537\n",
       "1     2463\n",
       "Name: count, dtype: int64"
      ]
     },
     "execution_count": 224,
     "metadata": {},
     "output_type": "execute_result"
    }
   ],
   "source": [
    "df[\"credit_card_default\"].value_counts()"
   ]
  },
  {
   "cell_type": "code",
   "execution_count": 225,
   "id": "34f7cb29",
   "metadata": {},
   "outputs": [
    {
     "data": {
      "text/plain": [
       "credit_card_default\n",
       "0    0.9179\n",
       "1    0.0821\n",
       "Name: proportion, dtype: float64"
      ]
     },
     "execution_count": 225,
     "metadata": {},
     "output_type": "execute_result"
    }
   ],
   "source": [
    "df[\"credit_card_default\"].value_counts(normalize=True)"
   ]
  },
  {
   "cell_type": "markdown",
   "id": "c678be38",
   "metadata": {},
   "source": [
    "## Fillnan: Categorical features"
   ]
  },
  {
   "cell_type": "code",
   "execution_count": 226,
   "id": "dfda43e8",
   "metadata": {},
   "outputs": [
    {
     "data": {
      "text/plain": [
       "customer_id          0\n",
       "name                 0\n",
       "gender               0\n",
       "owns_car           369\n",
       "owns_house           0\n",
       "occupation_type      0\n",
       "dtype: int64"
      ]
     },
     "execution_count": 226,
     "metadata": {},
     "output_type": "execute_result"
    }
   ],
   "source": [
    "df[cat_feats].isnull().sum()"
   ]
  },
  {
   "cell_type": "code",
   "execution_count": 227,
   "id": "398b6c2b",
   "metadata": {},
   "outputs": [
    {
     "name": "stdout",
     "output_type": "stream",
     "text": [
      "Column Name: customer_id\n",
      "customer_id\n",
      "CST_145733    0.000033\n",
      "CST_110128    0.000033\n",
      "CST_155400    0.000033\n",
      "CST_155397    0.000033\n",
      "CST_148964    0.000033\n",
      "                ...   \n",
      "CST_154013    0.000033\n",
      "CST_106655    0.000033\n",
      "CST_131350    0.000033\n",
      "CST_131305    0.000033\n",
      "CST_163708    0.000033\n",
      "Name: proportion, Length: 30000, dtype: float64\n",
      "\n",
      "\n",
      "Column Name: name\n",
      "name\n",
      "Jonathan              0.004367\n",
      "Jonathan Stempel      0.004133\n",
      "Jessica               0.003600\n",
      "Sarah                 0.003533\n",
      "David                 0.003467\n",
      "                        ...   \n",
      "Simpson               0.000033\n",
      "Eisenhammer           0.000033\n",
      "Svetlana Kovalyova    0.000033\n",
      "Ek                    0.000033\n",
      "Fenton                0.000033\n",
      "Name: proportion, Length: 3514, dtype: float64\n",
      "\n",
      "\n",
      "Column Name: gender\n",
      "gender\n",
      "F      0.657700\n",
      "M      0.342267\n",
      "XNA    0.000033\n",
      "Name: proportion, dtype: float64\n",
      "\n",
      "\n",
      "Column Name: owns_car\n",
      "owns_car\n",
      "N    0.660862\n",
      "Y    0.339138\n",
      "Name: proportion, dtype: float64\n",
      "\n",
      "\n",
      "Column Name: owns_house\n",
      "owns_house\n",
      "Y    0.6962\n",
      "N    0.3038\n",
      "Name: proportion, dtype: float64\n",
      "\n",
      "\n",
      "Column Name: occupation_type\n",
      "occupation_type\n",
      "Unknown                  0.314500\n",
      "Laborers                 0.178200\n",
      "Sales staff              0.103000\n",
      "Core staff               0.089900\n",
      "Managers                 0.069033\n",
      "Drivers                  0.060767\n",
      "High skill tech staff    0.037567\n",
      "Accountants              0.031433\n",
      "Medicine staff           0.028067\n",
      "Security staff           0.022100\n",
      "Cooking staff            0.019667\n",
      "Cleaning staff           0.015000\n",
      "Private service staff    0.008467\n",
      "Low-skill Laborers       0.007633\n",
      "Secretaries              0.004700\n",
      "Waiters/barmen staff     0.004600\n",
      "Realty agents            0.002000\n",
      "HR staff                 0.001700\n",
      "IT staff                 0.001667\n",
      "Name: proportion, dtype: float64\n",
      "\n",
      "\n"
     ]
    }
   ],
   "source": [
    "for i in cat_feats:\n",
    "    print(\"Column Name:\",i)\n",
    "    print(df[i].value_counts(normalize=True))\n",
    "    print(\"\\n\")"
   ]
  },
  {
   "cell_type": "markdown",
   "id": "4999f7d0",
   "metadata": {},
   "source": [
    "As there are missing values mostly less than 2%, so, let us impute all missing values with statistical way.\n",
    "That is, FillNA by MODE if it is categorical variable and FillNA by MEDIAN if it is numerical variable"
   ]
  },
  {
   "cell_type": "markdown",
   "id": "e03b55f0",
   "metadata": {},
   "source": [
    "### Gender"
   ]
  },
  {
   "cell_type": "code",
   "execution_count": 228,
   "id": "9c659769",
   "metadata": {},
   "outputs": [
    {
     "data": {
      "text/html": [
       "<div>\n",
       "<style scoped>\n",
       "    .dataframe tbody tr th:only-of-type {\n",
       "        vertical-align: middle;\n",
       "    }\n",
       "\n",
       "    .dataframe tbody tr th {\n",
       "        vertical-align: top;\n",
       "    }\n",
       "\n",
       "    .dataframe thead th {\n",
       "        text-align: right;\n",
       "    }\n",
       "</style>\n",
       "<table border=\"1\" class=\"dataframe\">\n",
       "  <thead>\n",
       "    <tr style=\"text-align: right;\">\n",
       "      <th></th>\n",
       "      <th>customer_id</th>\n",
       "      <th>name</th>\n",
       "      <th>age</th>\n",
       "      <th>gender</th>\n",
       "      <th>owns_car</th>\n",
       "      <th>owns_house</th>\n",
       "      <th>no_of_children</th>\n",
       "      <th>net_yearly_income</th>\n",
       "      <th>no_of_days_employed</th>\n",
       "      <th>occupation_type</th>\n",
       "      <th>total_family_members</th>\n",
       "      <th>migrant_worker</th>\n",
       "      <th>yearly_debt_payments</th>\n",
       "      <th>credit_limit</th>\n",
       "      <th>credit_limit_used(%)</th>\n",
       "      <th>credit_score</th>\n",
       "      <th>prev_defaults</th>\n",
       "      <th>default_in_last_6months</th>\n",
       "      <th>credit_card_default</th>\n",
       "    </tr>\n",
       "  </thead>\n",
       "  <tbody>\n",
       "    <tr>\n",
       "      <th>28498</th>\n",
       "      <td>CST_144669</td>\n",
       "      <td>ernard</td>\n",
       "      <td>52</td>\n",
       "      <td>XNA</td>\n",
       "      <td>N</td>\n",
       "      <td>Y</td>\n",
       "      <td>2.0</td>\n",
       "      <td>203596.95</td>\n",
       "      <td>2806.0</td>\n",
       "      <td>Low-skill Laborers</td>\n",
       "      <td>4.0</td>\n",
       "      <td>0.0</td>\n",
       "      <td>14700.2</td>\n",
       "      <td>65487.34</td>\n",
       "      <td>40</td>\n",
       "      <td>669.0</td>\n",
       "      <td>0</td>\n",
       "      <td>0</td>\n",
       "      <td>0</td>\n",
       "    </tr>\n",
       "  </tbody>\n",
       "</table>\n",
       "</div>"
      ],
      "text/plain": [
       "      customer_id    name  age gender owns_car owns_house  no_of_children  \\\n",
       "28498  CST_144669  ernard   52    XNA        N          Y             2.0   \n",
       "\n",
       "       net_yearly_income  no_of_days_employed     occupation_type  \\\n",
       "28498          203596.95               2806.0  Low-skill Laborers   \n",
       "\n",
       "       total_family_members  migrant_worker  yearly_debt_payments  \\\n",
       "28498                   4.0             0.0               14700.2   \n",
       "\n",
       "       credit_limit  credit_limit_used(%)  credit_score  prev_defaults  \\\n",
       "28498      65487.34                    40         669.0              0   \n",
       "\n",
       "       default_in_last_6months  credit_card_default  \n",
       "28498                        0                    0  "
      ]
     },
     "execution_count": 228,
     "metadata": {},
     "output_type": "execute_result"
    }
   ],
   "source": [
    "df[df['gender'] == 'XNA']"
   ]
  },
  {
   "cell_type": "code",
   "execution_count": 229,
   "id": "715aea19",
   "metadata": {},
   "outputs": [
    {
     "data": {
      "text/plain": [
       "gender\n",
       "F    19731\n",
       "M    10269\n",
       "Name: count, dtype: int64"
      ]
     },
     "execution_count": 229,
     "metadata": {},
     "output_type": "execute_result"
    }
   ],
   "source": [
    "# change it to M as the name pronunces as Male\n",
    "df['gender'] = df['gender'].apply(lambda x: 'M' if x=='XNA' else x)\n",
    "df['gender'].value_counts()"
   ]
  },
  {
   "cell_type": "markdown",
   "id": "0e2793b7",
   "metadata": {},
   "source": [
    "### Owns car"
   ]
  },
  {
   "cell_type": "code",
   "execution_count": 230,
   "id": "43b89652",
   "metadata": {},
   "outputs": [
    {
     "name": "stderr",
     "output_type": "stream",
     "text": [
      "C:\\Users\\devan\\AppData\\Local\\Temp\\ipykernel_23836\\3735598712.py:2: FutureWarning: A value is trying to be set on a copy of a DataFrame or Series through chained assignment using an inplace method.\n",
      "The behavior will change in pandas 3.0. This inplace method will never work because the intermediate object on which we are setting values always behaves as a copy.\n",
      "\n",
      "For example, when doing 'df[col].method(value, inplace=True)', try using 'df.method({col: value}, inplace=True)' or df[col] = df[col].method(value) instead, to perform the operation inplace on the original object.\n",
      "\n",
      "\n",
      "  df['owns_car'].fillna(df['owns_car'].mode()[0], inplace=True)\n"
     ]
    }
   ],
   "source": [
    "# fill owns_car with mode of the data\n",
    "df['owns_car'].fillna(df['owns_car'].mode()[0], inplace=True)"
   ]
  },
  {
   "cell_type": "code",
   "execution_count": 231,
   "id": "214aa9c8",
   "metadata": {},
   "outputs": [
    {
     "data": {
      "text/plain": [
       "owns_car\n",
       "N    0.665033\n",
       "Y    0.334967\n",
       "Name: proportion, dtype: float64"
      ]
     },
     "execution_count": 231,
     "metadata": {},
     "output_type": "execute_result"
    }
   ],
   "source": [
    "df[\"owns_car\"].value_counts(normalize=True)"
   ]
  },
  {
   "cell_type": "code",
   "execution_count": 232,
   "id": "d6aeeb64",
   "metadata": {},
   "outputs": [
    {
     "data": {
      "text/plain": [
       "customer_id        0\n",
       "name               0\n",
       "gender             0\n",
       "owns_car           0\n",
       "owns_house         0\n",
       "occupation_type    0\n",
       "dtype: int64"
      ]
     },
     "execution_count": 232,
     "metadata": {},
     "output_type": "execute_result"
    }
   ],
   "source": [
    "df[cat_feats].isnull().sum()"
   ]
  },
  {
   "cell_type": "markdown",
   "id": "dfe7f9e5",
   "metadata": {},
   "source": [
    "## Fillnan:  Numerical features"
   ]
  },
  {
   "cell_type": "code",
   "execution_count": 233,
   "id": "c811b841",
   "metadata": {},
   "outputs": [
    {
     "data": {
      "text/plain": [
       "no_of_children          502\n",
       "no_of_days_employed     315\n",
       "yearly_debt_payments     62\n",
       "total_family_members     56\n",
       "migrant_worker           53\n",
       "credit_score              6\n",
       "age                       0\n",
       "net_yearly_income         0\n",
       "credit_limit              0\n",
       "credit_limit_used(%)      0\n",
       "dtype: int64"
      ]
     },
     "execution_count": 233,
     "metadata": {},
     "output_type": "execute_result"
    }
   ],
   "source": [
    "df[num_feats].isnull().sum().sort_values(ascending=False).head(10)"
   ]
  },
  {
   "cell_type": "markdown",
   "id": "71c326e5",
   "metadata": {},
   "source": [
    "### no_of_days_employed"
   ]
  },
  {
   "cell_type": "code",
   "execution_count": 234,
   "id": "d8580c99",
   "metadata": {},
   "outputs": [],
   "source": [
    "# impute 'no_of_days_employed' with median based on 'occupation_type'\n",
    "occp_days_employed = df.groupby(by='occupation_type')['no_of_days_employed'].median()\n",
    "\n",
    "for i in occp_days_employed.index:\n",
    "    df['no_of_days_employed'] = np.where((df['no_of_days_employed'].isna()) & (df['occupation_type'] == i), occp_days_employed[i], df['no_of_days_employed'])"
   ]
  },
  {
   "cell_type": "code",
   "execution_count": 235,
   "id": "5c956b21",
   "metadata": {},
   "outputs": [
    {
     "data": {
      "text/plain": [
       "np.int64(0)"
      ]
     },
     "execution_count": 235,
     "metadata": {},
     "output_type": "execute_result"
    }
   ],
   "source": [
    "df.no_of_days_employed.isna().sum()"
   ]
  },
  {
   "cell_type": "markdown",
   "id": "b8f5ff43",
   "metadata": {},
   "source": [
    "### yearly_debt_payments"
   ]
  },
  {
   "cell_type": "code",
   "execution_count": 236,
   "id": "367d524d",
   "metadata": {},
   "outputs": [],
   "source": [
    "# impute 'yearly_debt_payments' with median based on 'credit_card_default'\n",
    "yearDebt_credit = df.groupby(by='credit_card_default')['yearly_debt_payments'].median()\n",
    "for i in yearDebt_credit.index:\n",
    "    df['yearly_debt_payments'] = np.where((df['yearly_debt_payments'].isna()) & (df['credit_card_default'] == i), yearDebt_credit[i], df['yearly_debt_payments'])"
   ]
  },
  {
   "cell_type": "code",
   "execution_count": 237,
   "id": "ec7b6aac",
   "metadata": {},
   "outputs": [
    {
     "data": {
      "text/plain": [
       "np.int64(0)"
      ]
     },
     "execution_count": 237,
     "metadata": {},
     "output_type": "execute_result"
    }
   ],
   "source": [
    "df['yearly_debt_payments'].isna().sum()"
   ]
  },
  {
   "cell_type": "code",
   "execution_count": 238,
   "id": "b3578de4",
   "metadata": {},
   "outputs": [
    {
     "data": {
      "text/plain": [
       "no_of_children          502\n",
       "total_family_members     56\n",
       "migrant_worker           53\n",
       "credit_score              6\n",
       "age                       0\n",
       "dtype: int64"
      ]
     },
     "execution_count": 238,
     "metadata": {},
     "output_type": "execute_result"
    }
   ],
   "source": [
    "df[num_feats].isnull().sum().sort_values(ascending = False).head(5)"
   ]
  },
  {
   "cell_type": "markdown",
   "id": "7705b0a8",
   "metadata": {},
   "source": [
    "### migrant_worker"
   ]
  },
  {
   "cell_type": "code",
   "execution_count": 239,
   "id": "d1d47a86",
   "metadata": {},
   "outputs": [
    {
     "data": {
      "text/plain": [
       "0    0.0\n",
       "Name: migrant_worker, dtype: float64"
      ]
     },
     "execution_count": 239,
     "metadata": {},
     "output_type": "execute_result"
    }
   ],
   "source": [
    "df['migrant_worker'].mode()"
   ]
  },
  {
   "cell_type": "code",
   "execution_count": 240,
   "id": "5a0db41c",
   "metadata": {},
   "outputs": [
    {
     "name": "stderr",
     "output_type": "stream",
     "text": [
      "C:\\Users\\devan\\AppData\\Local\\Temp\\ipykernel_23836\\341355721.py:2: FutureWarning: A value is trying to be set on a copy of a DataFrame or Series through chained assignment using an inplace method.\n",
      "The behavior will change in pandas 3.0. This inplace method will never work because the intermediate object on which we are setting values always behaves as a copy.\n",
      "\n",
      "For example, when doing 'df[col].method(value, inplace=True)', try using 'df.method({col: value}, inplace=True)' or df[col] = df[col].method(value) instead, to perform the operation inplace on the original object.\n",
      "\n",
      "\n",
      "  df['migrant_worker'].fillna(df['migrant_worker'].mode()[0], inplace=True)\n"
     ]
    },
    {
     "data": {
      "text/plain": [
       "np.int64(0)"
      ]
     },
     "execution_count": 240,
     "metadata": {},
     "output_type": "execute_result"
    }
   ],
   "source": [
    "# imputing with mode of the data\n",
    "df['migrant_worker'].fillna(df['migrant_worker'].mode()[0], inplace=True)\n",
    "\n",
    "# check null values count\n",
    "df['migrant_worker'].isna().sum()"
   ]
  },
  {
   "cell_type": "markdown",
   "id": "7fec72b5",
   "metadata": {},
   "source": [
    "### total_family_members"
   ]
  },
  {
   "cell_type": "code",
   "execution_count": 241,
   "id": "d0991a97",
   "metadata": {},
   "outputs": [
    {
     "name": "stderr",
     "output_type": "stream",
     "text": [
      "C:\\Users\\devan\\AppData\\Local\\Temp\\ipykernel_23836\\625074398.py:2: FutureWarning: A value is trying to be set on a copy of a DataFrame or Series through chained assignment using an inplace method.\n",
      "The behavior will change in pandas 3.0. This inplace method will never work because the intermediate object on which we are setting values always behaves as a copy.\n",
      "\n",
      "For example, when doing 'df[col].method(value, inplace=True)', try using 'df.method({col: value}, inplace=True)' or df[col] = df[col].method(value) instead, to perform the operation inplace on the original object.\n",
      "\n",
      "\n",
      "  df['total_family_members'].fillna(df['total_family_members'].mode()[0], inplace=True)\n"
     ]
    },
    {
     "data": {
      "text/plain": [
       "np.int64(0)"
      ]
     },
     "execution_count": 241,
     "metadata": {},
     "output_type": "execute_result"
    }
   ],
   "source": [
    "# imputing with mode of the data\n",
    "df['total_family_members'].fillna(df['total_family_members'].mode()[0], inplace=True)\n",
    "\n",
    "# check null values count\n",
    "df['total_family_members'].isna().sum()"
   ]
  },
  {
   "cell_type": "code",
   "execution_count": 242,
   "id": "f0e5cef0",
   "metadata": {},
   "outputs": [
    {
     "data": {
      "text/plain": [
       "no_of_children         502\n",
       "credit_score             6\n",
       "age                      0\n",
       "no_of_days_employed      0\n",
       "net_yearly_income        0\n",
       "dtype: int64"
      ]
     },
     "execution_count": 242,
     "metadata": {},
     "output_type": "execute_result"
    }
   ],
   "source": [
    "df[num_feats].isnull().sum().sort_values(ascending = False).head(5)"
   ]
  },
  {
   "cell_type": "markdown",
   "id": "b7a845d6",
   "metadata": {},
   "source": [
    "### no_of_children"
   ]
  },
  {
   "cell_type": "code",
   "execution_count": 243,
   "id": "a206976a",
   "metadata": {},
   "outputs": [
    {
     "name": "stderr",
     "output_type": "stream",
     "text": [
      "C:\\Users\\devan\\AppData\\Local\\Temp\\ipykernel_23836\\1293685831.py:2: FutureWarning: A value is trying to be set on a copy of a DataFrame or Series through chained assignment using an inplace method.\n",
      "The behavior will change in pandas 3.0. This inplace method will never work because the intermediate object on which we are setting values always behaves as a copy.\n",
      "\n",
      "For example, when doing 'df[col].method(value, inplace=True)', try using 'df.method({col: value}, inplace=True)' or df[col] = df[col].method(value) instead, to perform the operation inplace on the original object.\n",
      "\n",
      "\n",
      "  df['no_of_children'].fillna(df['no_of_children'].mode()[0], inplace=True)\n"
     ]
    }
   ],
   "source": [
    "# fill no_of_children with mode of the data\n",
    "df['no_of_children'].fillna(df['no_of_children'].mode()[0], inplace=True)"
   ]
  },
  {
   "cell_type": "markdown",
   "id": "3d4df298",
   "metadata": {},
   "source": [
    "### credit_score"
   ]
  },
  {
   "cell_type": "code",
   "execution_count": 244,
   "id": "a246b365",
   "metadata": {},
   "outputs": [
    {
     "data": {
      "text/plain": [
       "np.int64(0)"
      ]
     },
     "execution_count": 244,
     "metadata": {},
     "output_type": "execute_result"
    }
   ],
   "source": [
    "# check medians of credit_score wrt credit_card_default\n",
    "cred_score = df.groupby(by='credit_card_default')['credit_score'].median()\n",
    "\n",
    "for i in cred_score.index:\n",
    "    df['credit_score'] = np.where((df['credit_score'].isna()) & (df['credit_card_default'] == i), cred_score[i], df['credit_score'])\n",
    "\n",
    "# check for null values in 'credit_score'\n",
    "df['credit_score'].isna().sum()"
   ]
  },
  {
   "cell_type": "code",
   "execution_count": 245,
   "id": "88960aba-dc85-44a2-9536-626da7c77e15",
   "metadata": {},
   "outputs": [
    {
     "name": "stdout",
     "output_type": "stream",
     "text": [
      "34126    0\n",
      "44609    0\n",
      "44264    1\n",
      "33556    0\n",
      "28050    0\n",
      "        ..\n",
      "37523    0\n",
      "36228    0\n",
      "32772    0\n",
      "9762     0\n",
      "33325    0\n",
      "Name: credit_card_default, Length: 30000, dtype: int64\n"
     ]
    }
   ],
   "source": [
    "print(df['credit_card_default'])"
   ]
  },
  {
   "cell_type": "code",
   "execution_count": 246,
   "id": "abcde1d5",
   "metadata": {},
   "outputs": [
    {
     "data": {
      "text/plain": [
       "age                        0\n",
       "no_of_children             0\n",
       "net_yearly_income          0\n",
       "no_of_days_employed        0\n",
       "total_family_members       0\n",
       "migrant_worker             0\n",
       "yearly_debt_payments       0\n",
       "credit_limit               0\n",
       "credit_limit_used(%)       0\n",
       "credit_score               0\n",
       "prev_defaults              0\n",
       "default_in_last_6months    0\n",
       "credit_card_default        0\n",
       "dtype: int64"
      ]
     },
     "execution_count": 246,
     "metadata": {},
     "output_type": "execute_result"
    }
   ],
   "source": [
    "df[num_feats].isnull().sum().sort_values(ascending = False)"
   ]
  },
  {
   "cell_type": "code",
   "execution_count": 247,
   "id": "e68c1940",
   "metadata": {},
   "outputs": [
    {
     "data": {
      "text/plain": [
       "customer_id                0\n",
       "name                       0\n",
       "age                        0\n",
       "gender                     0\n",
       "owns_car                   0\n",
       "owns_house                 0\n",
       "no_of_children             0\n",
       "net_yearly_income          0\n",
       "no_of_days_employed        0\n",
       "occupation_type            0\n",
       "total_family_members       0\n",
       "migrant_worker             0\n",
       "yearly_debt_payments       0\n",
       "credit_limit               0\n",
       "credit_limit_used(%)       0\n",
       "credit_score               0\n",
       "prev_defaults              0\n",
       "default_in_last_6months    0\n",
       "credit_card_default        0\n",
       "dtype: int64"
      ]
     },
     "execution_count": 247,
     "metadata": {},
     "output_type": "execute_result"
    }
   ],
   "source": [
    "df.isnull().sum()"
   ]
  },
  {
   "cell_type": "markdown",
   "id": "69aa4e7e",
   "metadata": {},
   "source": [
    "## Concentrated EDA"
   ]
  },
  {
   "cell_type": "code",
   "execution_count": 248,
   "id": "bf77ad20",
   "metadata": {},
   "outputs": [
    {
     "data": {
      "image/png": "[encoded data removed]",
      "text/plain": [
       "<Figure size 640x480 with 1 Axes>"
      ]
     },
     "metadata": {},
     "output_type": "display_data"
    }
   ],
   "source": [
    "# Ploting Credit_default ratio\n",
    "total_default_values = df.credit_card_default.value_counts(ascending=True).values\n",
    "\n",
    "plt.figure()\n",
    "plt.pie(total_default_values, labels=['Defaulter', 'Not Defaulter'], autopct='%1.1f%%', shadow=True)\n",
    "plt.title('Defaulter Ratio', fontsize=18)\n",
    "plt.show()"
   ]
  },
  {
   "cell_type": "code",
   "execution_count": 249,
   "id": "6b45788d",
   "metadata": {},
   "outputs": [
    {
     "data": {
      "text/plain": [
       "<Figure size 640x480 with 0 Axes>"
      ]
     },
     "metadata": {},
     "output_type": "display_data"
    },
    {
     "data": {
      "image/png": "[encoded data removed]",
      "text/plain": [
       "<Figure size 500x500 with 1 Axes>"
      ]
     },
     "metadata": {},
     "output_type": "display_data"
    }
   ],
   "source": [
    "# visualize AGE feature - distplot\n",
    "plt.figure()\n",
    "sns.displot(df['age'])\n",
    "plt.show()"
   ]
  },
  {
   "cell_type": "code",
   "execution_count": 252,
   "id": "61f4367b-675f-4cad-a72e-4ba86fa57017",
   "metadata": {},
   "outputs": [
    {
     "data": {
      "image/png": "[encoded data removed]",
      "text/plain": [
       "<Figure size 700x600 with 1 Axes>"
      ]
     },
     "metadata": {},
     "output_type": "display_data"
    }
   ],
   "source": [
    "# boxplot of credit_defaulter-credit_score\n",
    "plt.figure(figsize=[7,6])\n",
    "sns.boxplot(x='credit_card_default', y='credit_score', data=df)\n",
    "# Using named parameters: x for the categories, y for the values to plot, and data for the dataframe\n",
    "plt.show()"
   ]
  },
  {
   "cell_type": "code",
   "execution_count": 254,
   "id": "e84ec0ce",
   "metadata": {},
   "outputs": [
    {
     "data": {
      "image/png": "[encoded data removed]",
      "text/plain": [
       "<Figure size 700x600 with 1 Axes>"
      ]
     },
     "metadata": {},
     "output_type": "display_data"
    }
   ],
   "source": [
    "# boxplot of credit_defaulter-credit_score\n",
    "plt.figure(figsize=[7,6])\n",
    "sns.boxplot(x='credit_card_default', y='credit_limit_used(%)', data=df)\n",
    "# Using named parameters: x for the categories, y for the values to plot, and data for the dataframe\n",
    "plt.show()"
   ]
  },
  {
   "cell_type": "code",
   "execution_count": 255,
   "id": "64d2c64c-4ca6-4691-97de-f12b3dc6fedc",
   "metadata": {},
   "outputs": [
    {
     "name": "stdout",
     "output_type": "stream",
     "text": [
      "34126    0\n",
      "44609    0\n",
      "44264    1\n",
      "33556    0\n",
      "28050    0\n",
      "        ..\n",
      "37523    0\n",
      "36228    0\n",
      "32772    0\n",
      "9762     0\n",
      "33325    0\n",
      "Name: credit_card_default, Length: 30000, dtype: int64\n"
     ]
    }
   ],
   "source": [
    "print(df['credit_card_default'])"
   ]
  },
  {
   "cell_type": "code",
   "execution_count": 256,
   "id": "b39c868d",
   "metadata": {},
   "outputs": [
    {
     "data": {
      "image/png": "[encoded data removed]",
      "text/plain": [
       "<Figure size 1800x800 with 1 Axes>"
      ]
     },
     "metadata": {},
     "output_type": "display_data"
    }
   ],
   "source": [
    "# barplots for occupation types wrt credit_default\n",
    "plt.figure(figsize=[18,8])\n",
    "sns.barplot(x=df['occupation_type'], y=df['net_yearly_income'], hue=df['credit_card_default'])\n",
    "plt.xticks(rotation=45)\n",
    "plt.show()"
   ]
  },
  {
   "cell_type": "code",
   "execution_count": 258,
   "id": "a8f1021a",
   "metadata": {},
   "outputs": [
    {
     "data": {
      "image/png": "[encoded data removed]",
      "text/plain": [
       "<Figure size 700x600 with 1 Axes>"
      ]
     },
     "metadata": {},
     "output_type": "display_data"
    }
   ],
   "source": [
    "# male or female defaulters\n",
    "plt.figure(figsize=[7,6])\n",
    "sns.countplot(x='gender', hue='credit_card_default', data=df)\n",
    "plt.show()"
   ]
  },
  {
   "cell_type": "code",
   "execution_count": 259,
   "id": "cf89a3b1",
   "metadata": {},
   "outputs": [
    {
     "data": {
      "image/png": "[encoded data removed]",
      "text/plain": [
       "<Figure size 1600x1200 with 5 Axes>"
      ]
     },
     "metadata": {},
     "output_type": "display_data"
    }
   ],
   "source": [
    "# boxplot of all continuous variables\n",
    "\n",
    "plt.figure(figsize=[16, 12])\n",
    "plt.subplot(2,3,1)\n",
    "df['net_yearly_income'].plot.box()\n",
    "plt.title('net_yearly_income Box Plot')\n",
    "\n",
    "plt.subplot(2,3,2)\n",
    "df['no_of_days_employed'].plot.box()\n",
    "plt.title('no_of_days_employed Box Plot')\n",
    "\n",
    "plt.subplot(2,3,3)\n",
    "df['yearly_debt_payments'].plot.box()\n",
    "plt.title('yearly_debt_payments Box Plot')\n",
    "\n",
    "plt.subplot(2,3,4)\n",
    "df['credit_limit'].plot.box()\n",
    "plt.title('credit_limit Box Plot')\n",
    "\n",
    "plt.subplot(2,3,5)\n",
    "df['credit_score'].plot.box()\n",
    "plt.title('credit_score Box Plot')\n",
    "plt.show()"
   ]
  },
  {
   "cell_type": "code",
   "execution_count": 263,
   "id": "87f41bac-3ba8-4c6f-b960-c6c96de0c48b",
   "metadata": {},
   "outputs": [
    {
     "name": "stdout",
     "output_type": "stream",
     "text": [
      "Classification Report:\n",
      "               precision    recall  f1-score   support\n",
      "\n",
      "           0       0.98      1.00      0.99      8335\n",
      "           1       0.96      0.80      0.87       771\n",
      "\n",
      "    accuracy                           0.98      9106\n",
      "   macro avg       0.97      0.90      0.93      9106\n",
      "weighted avg       0.98      0.98      0.98      9106\n",
      "\n",
      "Confusion Matrix:\n",
      " [[8306   29]\n",
      " [ 154  617]]\n",
      "✅ Predictions saved to 'predictions_logistic.csv'\n"
     ]
    }
   ],
   "source": [
    "import pandas as pd\n",
    "from sklearn.model_selection import train_test_split\n",
    "from sklearn.pipeline import Pipeline\n",
    "from sklearn.compose import ColumnTransformer\n",
    "from sklearn.preprocessing import StandardScaler, OneHotEncoder\n",
    "from sklearn.impute import SimpleImputer\n",
    "from sklearn.linear_model import LogisticRegression\n",
    "from sklearn.metrics import classification_report, confusion_matrix\n",
    "\n",
    "# --- Load data ---\n",
    "train = pd.read_csv('E:/HSBC/train.csv')\n",
    "test = pd.read_csv('E:/HSBC/test.csv')\n",
    "\n",
    "# --- Drop ID column if exists ---\n",
    "train = train.drop(columns=['ID'], errors='ignore')\n",
    "test = test.drop(columns=['ID'], errors='ignore')\n",
    "\n",
    "# --- Separate features and target ---\n",
    "y = train['credit_card_default']\n",
    "X = train.drop(columns=['credit_card_default'])\n",
    "\n",
    "# --- Match test columns ---\n",
    "test = test[X.columns]\n",
    "\n",
    "# --- Identify column types ---\n",
    "categorical_cols = X.select_dtypes(include='object').columns.tolist()\n",
    "numerical_cols = X.select_dtypes(exclude='object').columns.tolist()\n",
    "\n",
    "# --- Preprocessing for numeric and categorical features ---\n",
    "numeric_transformer = Pipeline(steps=[\n",
    "    ('imputer', SimpleImputer(strategy='mean')),\n",
    "    ('scaler', StandardScaler())\n",
    "])\n",
    "\n",
    "categorical_transformer = Pipeline(steps=[\n",
    "    ('imputer', SimpleImputer(strategy='most_frequent')),\n",
    "    ('onehot', OneHotEncoder(handle_unknown='ignore'))\n",
    "])\n",
    "\n",
    "preprocessor = ColumnTransformer(\n",
    "    transformers=[\n",
    "        ('num', numeric_transformer, numerical_cols),\n",
    "        ('cat', categorical_transformer, categorical_cols)\n",
    "    ]\n",
    ")\n",
    "\n",
    "# --- Create final pipeline with classifier ---\n",
    "model = Pipeline(steps=[\n",
    "    ('preprocessor', preprocessor),\n",
    "    ('classifier', LogisticRegression(max_iter=1000))\n",
    "])\n",
    "\n",
    "# --- Train/validation split ---\n",
    "X_train, X_val, y_train, y_val = train_test_split(X, y, test_size=0.2, random_state=42)\n",
    "\n",
    "# --- Fit model ---\n",
    "model.fit(X_train, y_train)\n",
    "\n",
    "# --- Evaluate model ---\n",
    "y_pred = model.predict(X_val)\n",
    "print(\"Classification Report:\\n\", classification_report(y_val, y_pred))\n",
    "print(\"Confusion Matrix:\\n\", confusion_matrix(y_val, y_pred))\n",
    "\n",
    "# --- Predict on test set ---\n",
    "test_predictions = model.predict(test)\n",
    "\n",
    "# --- Save predictions ---\n",
    "submission = pd.DataFrame({'credit_card_default': test_predictions})\n",
    "submission.to_csv('predictions_logistic.csv', index=False)\n",
    "print(\"✅ Predictions saved to 'predictions_logistic.csv'\")\n"
   ]
  },
  {
   "cell_type": "code",
   "execution_count": null,
   "id": "ee4b2909-9caf-421e-9ad1-445e620b07ee",
   "metadata": {},
   "outputs": [],
   "source": []
  }
 ],
 "metadata": {
  "kernelspec": {
   "display_name": "Python 3 (ipykernel)",
   "language": "python",
   "name": "python3"
  },
  "language_info": {
   "codemirror_mode": {
    "name": "ipython",
    "version": 3
   },
   "file_extension": ".py",
   "mimetype": "text/x-python",
   "name": "python",
   "nbconvert_exporter": "python",
   "pygments_lexer": "ipython3",
   "version": "3.13.5"
  }
 },
 "nbformat": 4,
 "nbformat_minor": 5
}
